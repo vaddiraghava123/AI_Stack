{
 "cells": [
  {
   "cell_type": "markdown",
   "metadata": {},
   "source": [
    "### Smol agent run verification"
   ]
  },
  {
   "cell_type": "code",
   "execution_count": 1,
   "metadata": {},
   "outputs": [
    {
     "name": "stdout",
     "output_type": "stream",
     "text": [
      "Requirement already satisfied: smolagents in f:\\python\\lib\\site-packages (1.11.0)\n",
      "Requirement already satisfied: huggingface-hub>=0.28.0 in f:\\python\\lib\\site-packages (from smolagents) (0.29.1)\n",
      "Requirement already satisfied: requests>=2.32.3 in f:\\python\\lib\\site-packages (from smolagents) (2.32.3)\n",
      "Requirement already satisfied: rich>=13.9.4 in f:\\python\\lib\\site-packages (from smolagents) (13.9.4)\n",
      "Requirement already satisfied: pandas>=2.2.3 in f:\\python\\lib\\site-packages (from smolagents) (2.2.3)\n",
      "Requirement already satisfied: jinja2>=3.1.4 in c:\\users\\lenovo\\appdata\\roaming\\python\\python313\\site-packages (from smolagents) (3.1.5)\n",
      "Requirement already satisfied: pillow>=11.0.0 in f:\\python\\lib\\site-packages (from smolagents) (11.0.0)\n",
      "Requirement already satisfied: markdownify>=0.14.1 in f:\\python\\lib\\site-packages (from smolagents) (1.1.0)\n",
      "Requirement already satisfied: duckduckgo-search>=6.3.7 in f:\\python\\lib\\site-packages (from smolagents) (7.5.2)\n",
      "Requirement already satisfied: python-dotenv in f:\\python\\lib\\site-packages (from smolagents) (1.0.1)\n",
      "Requirement already satisfied: click>=8.1.8 in f:\\python\\lib\\site-packages (from duckduckgo-search>=6.3.7->smolagents) (8.1.8)\n",
      "Requirement already satisfied: primp>=0.14.0 in f:\\python\\lib\\site-packages (from duckduckgo-search>=6.3.7->smolagents) (0.14.0)\n",
      "Requirement already satisfied: lxml>=5.3.0 in f:\\python\\lib\\site-packages (from duckduckgo-search>=6.3.7->smolagents) (5.3.0)\n",
      "Requirement already satisfied: filelock in f:\\python\\lib\\site-packages (from huggingface-hub>=0.28.0->smolagents) (3.16.1)\n",
      "Requirement already satisfied: fsspec>=2023.5.0 in f:\\python\\lib\\site-packages (from huggingface-hub>=0.28.0->smolagents) (2024.6.1)\n",
      "Requirement already satisfied: packaging>=20.9 in c:\\users\\lenovo\\appdata\\roaming\\python\\python313\\site-packages (from huggingface-hub>=0.28.0->smolagents) (24.2)\n",
      "Requirement already satisfied: pyyaml>=5.1 in f:\\python\\lib\\site-packages (from huggingface-hub>=0.28.0->smolagents) (6.0.2)\n",
      "Requirement already satisfied: tqdm>=4.42.1 in f:\\python\\lib\\site-packages (from huggingface-hub>=0.28.0->smolagents) (4.67.1)\n",
      "Requirement already satisfied: typing-extensions>=3.7.4.3 in f:\\python\\lib\\site-packages (from huggingface-hub>=0.28.0->smolagents) (4.12.2)\n",
      "Requirement already satisfied: MarkupSafe>=2.0 in f:\\python\\lib\\site-packages (from jinja2>=3.1.4->smolagents) (2.1.5)\n",
      "Requirement already satisfied: beautifulsoup4<5,>=4.9 in c:\\users\\lenovo\\appdata\\roaming\\python\\python313\\site-packages (from markdownify>=0.14.1->smolagents) (4.12.3)\n",
      "Requirement already satisfied: six<2,>=1.15 in c:\\users\\lenovo\\appdata\\roaming\\python\\python313\\site-packages (from markdownify>=0.14.1->smolagents) (1.17.0)\n",
      "Requirement already satisfied: numpy>=1.26.0 in f:\\python\\lib\\site-packages (from pandas>=2.2.3->smolagents) (2.2.3)\n",
      "Requirement already satisfied: python-dateutil>=2.8.2 in c:\\users\\lenovo\\appdata\\roaming\\python\\python313\\site-packages (from pandas>=2.2.3->smolagents) (2.9.0.post0)\n",
      "Requirement already satisfied: pytz>=2020.1 in f:\\python\\lib\\site-packages (from pandas>=2.2.3->smolagents) (2024.2)\n",
      "Requirement already satisfied: tzdata>=2022.7 in f:\\python\\lib\\site-packages (from pandas>=2.2.3->smolagents) (2024.2)\n",
      "Requirement already satisfied: charset-normalizer<4,>=2 in f:\\python\\lib\\site-packages (from requests>=2.32.3->smolagents) (3.4.1)\n",
      "Requirement already satisfied: idna<4,>=2.5 in f:\\python\\lib\\site-packages (from requests>=2.32.3->smolagents) (3.10)\n",
      "Requirement already satisfied: urllib3<3,>=1.21.1 in f:\\python\\lib\\site-packages (from requests>=2.32.3->smolagents) (2.3.0)\n",
      "Requirement already satisfied: certifi>=2017.4.17 in f:\\python\\lib\\site-packages (from requests>=2.32.3->smolagents) (2025.1.31)\n",
      "Requirement already satisfied: markdown-it-py>=2.2.0 in f:\\python\\lib\\site-packages (from rich>=13.9.4->smolagents) (3.0.0)\n",
      "Requirement already satisfied: pygments<3.0.0,>=2.13.0 in c:\\users\\lenovo\\appdata\\roaming\\python\\python313\\site-packages (from rich>=13.9.4->smolagents) (2.18.0)\n",
      "Requirement already satisfied: soupsieve>1.2 in c:\\users\\lenovo\\appdata\\roaming\\python\\python313\\site-packages (from beautifulsoup4<5,>=4.9->markdownify>=0.14.1->smolagents) (2.6)\n",
      "Requirement already satisfied: colorama in c:\\users\\lenovo\\appdata\\roaming\\python\\python313\\site-packages (from click>=8.1.8->duckduckgo-search>=6.3.7->smolagents) (0.4.6)\n",
      "Requirement already satisfied: mdurl~=0.1 in f:\\python\\lib\\site-packages (from markdown-it-py>=2.2.0->rich>=13.9.4->smolagents) (0.1.2)\n",
      "Note: you may need to restart the kernel to use updated packages.\n"
     ]
    }
   ],
   "source": [
    "pip install smolagents"
   ]
  },
  {
   "cell_type": "code",
   "execution_count": null,
   "metadata": {},
   "outputs": [],
   "source": [
    "import os\n",
    "os.environ[\"HF_TOKEN\"] = \"HF_TOKEN\"\n"
   ]
  },
  {
   "cell_type": "code",
   "execution_count": 3,
   "metadata": {},
   "outputs": [
    {
     "name": "stderr",
     "output_type": "stream",
     "text": [
      "f:\\python\\Lib\\site-packages\\tqdm\\auto.py:21: TqdmWarning: IProgress not found. Please update jupyter and ipywidgets. See https://ipywidgets.readthedocs.io/en/stable/user_install.html\n",
      "  from .autonotebook import tqdm as notebook_tqdm\n"
     ]
    },
    {
     "data": {
      "text/html": [
       "<pre style=\"white-space:pre;overflow-x:auto;line-height:normal;font-family:Menlo,'DejaVu Sans Mono',consolas,'Courier New',monospace\"><span style=\"color: #d4b702; text-decoration-color: #d4b702\">╭──────────────────────────────────────────────────── </span><span style=\"color: #d4b702; text-decoration-color: #d4b702; font-weight: bold\">New run</span><span style=\"color: #d4b702; text-decoration-color: #d4b702\"> ────────────────────────────────────────────────────╮</span>\n",
       "<span style=\"color: #d4b702; text-decoration-color: #d4b702\">│</span>                                                                                                                 <span style=\"color: #d4b702; text-decoration-color: #d4b702\">│</span>\n",
       "<span style=\"color: #d4b702; text-decoration-color: #d4b702\">│</span> <span style=\"font-weight: bold\">Difference between human brain and machine brain</span>                                                                <span style=\"color: #d4b702; text-decoration-color: #d4b702\">│</span>\n",
       "<span style=\"color: #d4b702; text-decoration-color: #d4b702\">│</span>                                                                                                                 <span style=\"color: #d4b702; text-decoration-color: #d4b702\">│</span>\n",
       "<span style=\"color: #d4b702; text-decoration-color: #d4b702\">╰─ HfApiModel - Qwen/Qwen2.5-Coder-32B-Instruct ──────────────────────────────────────────────────────────────────╯</span>\n",
       "</pre>\n"
      ],
      "text/plain": [
       "\u001b[38;2;212;183;2m╭─\u001b[0m\u001b[38;2;212;183;2m───────────────────────────────────────────────────\u001b[0m\u001b[38;2;212;183;2m \u001b[0m\u001b[1;38;2;212;183;2mNew run\u001b[0m\u001b[38;2;212;183;2m \u001b[0m\u001b[38;2;212;183;2m───────────────────────────────────────────────────\u001b[0m\u001b[38;2;212;183;2m─╮\u001b[0m\n",
       "\u001b[38;2;212;183;2m│\u001b[0m                                                                                                                 \u001b[38;2;212;183;2m│\u001b[0m\n",
       "\u001b[38;2;212;183;2m│\u001b[0m \u001b[1mDifference between human brain and machine brain\u001b[0m                                                                \u001b[38;2;212;183;2m│\u001b[0m\n",
       "\u001b[38;2;212;183;2m│\u001b[0m                                                                                                                 \u001b[38;2;212;183;2m│\u001b[0m\n",
       "\u001b[38;2;212;183;2m╰─\u001b[0m\u001b[38;2;212;183;2m HfApiModel - Qwen/Qwen2.5-Coder-32B-Instruct \u001b[0m\u001b[38;2;212;183;2m─────────────────────────────────────────────────────────────────\u001b[0m\u001b[38;2;212;183;2m─╯\u001b[0m\n"
      ]
     },
     "metadata": {},
     "output_type": "display_data"
    },
    {
     "data": {
      "text/html": [
       "<pre style=\"white-space:pre;overflow-x:auto;line-height:normal;font-family:Menlo,'DejaVu Sans Mono',consolas,'Courier New',monospace\"><span style=\"color: #d4b702; text-decoration-color: #d4b702\">━━━━━━━━━━━━━━━━━━━━━━━━━━━━━━━━━━━━━━━━━━━━━━━━━━━━━ </span><span style=\"font-weight: bold\">Step </span><span style=\"color: #008080; text-decoration-color: #008080; font-weight: bold\">1</span><span style=\"color: #d4b702; text-decoration-color: #d4b702\"> ━━━━━━━━━━━━━━━━━━━━━━━━━━━━━━━━━━━━━━━━━━━━━━━━━━━━━━</span>\n",
       "</pre>\n"
      ],
      "text/plain": [
       "\u001b[38;2;212;183;2m━━━━━━━━━━━━━━━━━━━━━━━━━━━━━━━━━━━━━━━━━━━━━━━━━━━━━ \u001b[0m\u001b[1mStep \u001b[0m\u001b[1;36m1\u001b[0m\u001b[38;2;212;183;2m ━━━━━━━━━━━━━━━━━━━━━━━━━━━━━━━━━━━━━━━━━━━━━━━━━━━━━━\u001b[0m\n"
      ]
     },
     "metadata": {},
     "output_type": "display_data"
    },
    {
     "data": {
      "text/html": [
       "<pre style=\"white-space:pre;overflow-x:auto;line-height:normal;font-family:Menlo,'DejaVu Sans Mono',consolas,'Courier New',monospace\"> ─ <span style=\"font-weight: bold\">Executing parsed code:</span> ──────────────────────────────────────────────────────────────────────────────────────── \n",
       "  <span style=\"color: #f8f8f2; text-decoration-color: #f8f8f2; background-color: #272822\">human_brain_info </span><span style=\"color: #ff4689; text-decoration-color: #ff4689; background-color: #272822\">=</span><span style=\"color: #f8f8f2; text-decoration-color: #f8f8f2; background-color: #272822\"> web_search(query</span><span style=\"color: #ff4689; text-decoration-color: #ff4689; background-color: #272822\">=</span><span style=\"color: #e6db74; text-decoration-color: #e6db74; background-color: #272822\">\"human brain information\"</span><span style=\"color: #f8f8f2; text-decoration-color: #f8f8f2; background-color: #272822\">)</span><span style=\"background-color: #272822\">                                                 </span>  \n",
       "  <span style=\"color: #f8f8f2; text-decoration-color: #f8f8f2; background-color: #272822\">print(</span><span style=\"color: #e6db74; text-decoration-color: #e6db74; background-color: #272822\">\"Information about Human Brain:\"</span><span style=\"color: #f8f8f2; text-decoration-color: #f8f8f2; background-color: #272822\">, human_brain_info)</span><span style=\"background-color: #272822\">                                                      </span>  \n",
       "  <span style=\"background-color: #272822\">                                                                                                               </span>  \n",
       "  <span style=\"color: #f8f8f2; text-decoration-color: #f8f8f2; background-color: #272822\">machine_brain_info </span><span style=\"color: #ff4689; text-decoration-color: #ff4689; background-color: #272822\">=</span><span style=\"color: #f8f8f2; text-decoration-color: #f8f8f2; background-color: #272822\"> web_search(query</span><span style=\"color: #ff4689; text-decoration-color: #ff4689; background-color: #272822\">=</span><span style=\"color: #e6db74; text-decoration-color: #e6db74; background-color: #272822\">\"machine brain information\"</span><span style=\"color: #f8f8f2; text-decoration-color: #f8f8f2; background-color: #272822\">)</span><span style=\"background-color: #272822\">                                             </span>  \n",
       "  <span style=\"color: #f8f8f2; text-decoration-color: #f8f8f2; background-color: #272822\">print(</span><span style=\"color: #e6db74; text-decoration-color: #e6db74; background-color: #272822\">\"Information about Machine Brain:\"</span><span style=\"color: #f8f8f2; text-decoration-color: #f8f8f2; background-color: #272822\">, machine_brain_info)</span><span style=\"background-color: #272822\">                                                  </span>  \n",
       " ───────────────────────────────────────────────────────────────────────────────────────────────────────────────── \n",
       "</pre>\n"
      ],
      "text/plain": [
       " ─ \u001b[1mExecuting parsed code:\u001b[0m ──────────────────────────────────────────────────────────────────────────────────────── \n",
       "  \u001b[38;2;248;248;242;48;2;39;40;34mhuman_brain_info\u001b[0m\u001b[38;2;248;248;242;48;2;39;40;34m \u001b[0m\u001b[38;2;255;70;137;48;2;39;40;34m=\u001b[0m\u001b[38;2;248;248;242;48;2;39;40;34m \u001b[0m\u001b[38;2;248;248;242;48;2;39;40;34mweb_search\u001b[0m\u001b[38;2;248;248;242;48;2;39;40;34m(\u001b[0m\u001b[38;2;248;248;242;48;2;39;40;34mquery\u001b[0m\u001b[38;2;255;70;137;48;2;39;40;34m=\u001b[0m\u001b[38;2;230;219;116;48;2;39;40;34m\"\u001b[0m\u001b[38;2;230;219;116;48;2;39;40;34mhuman brain information\u001b[0m\u001b[38;2;230;219;116;48;2;39;40;34m\"\u001b[0m\u001b[38;2;248;248;242;48;2;39;40;34m)\u001b[0m\u001b[48;2;39;40;34m                                                 \u001b[0m  \n",
       "  \u001b[38;2;248;248;242;48;2;39;40;34mprint\u001b[0m\u001b[38;2;248;248;242;48;2;39;40;34m(\u001b[0m\u001b[38;2;230;219;116;48;2;39;40;34m\"\u001b[0m\u001b[38;2;230;219;116;48;2;39;40;34mInformation about Human Brain:\u001b[0m\u001b[38;2;230;219;116;48;2;39;40;34m\"\u001b[0m\u001b[38;2;248;248;242;48;2;39;40;34m,\u001b[0m\u001b[38;2;248;248;242;48;2;39;40;34m \u001b[0m\u001b[38;2;248;248;242;48;2;39;40;34mhuman_brain_info\u001b[0m\u001b[38;2;248;248;242;48;2;39;40;34m)\u001b[0m\u001b[48;2;39;40;34m                                                      \u001b[0m  \n",
       "  \u001b[48;2;39;40;34m                                                                                                               \u001b[0m  \n",
       "  \u001b[38;2;248;248;242;48;2;39;40;34mmachine_brain_info\u001b[0m\u001b[38;2;248;248;242;48;2;39;40;34m \u001b[0m\u001b[38;2;255;70;137;48;2;39;40;34m=\u001b[0m\u001b[38;2;248;248;242;48;2;39;40;34m \u001b[0m\u001b[38;2;248;248;242;48;2;39;40;34mweb_search\u001b[0m\u001b[38;2;248;248;242;48;2;39;40;34m(\u001b[0m\u001b[38;2;248;248;242;48;2;39;40;34mquery\u001b[0m\u001b[38;2;255;70;137;48;2;39;40;34m=\u001b[0m\u001b[38;2;230;219;116;48;2;39;40;34m\"\u001b[0m\u001b[38;2;230;219;116;48;2;39;40;34mmachine brain information\u001b[0m\u001b[38;2;230;219;116;48;2;39;40;34m\"\u001b[0m\u001b[38;2;248;248;242;48;2;39;40;34m)\u001b[0m\u001b[48;2;39;40;34m                                             \u001b[0m  \n",
       "  \u001b[38;2;248;248;242;48;2;39;40;34mprint\u001b[0m\u001b[38;2;248;248;242;48;2;39;40;34m(\u001b[0m\u001b[38;2;230;219;116;48;2;39;40;34m\"\u001b[0m\u001b[38;2;230;219;116;48;2;39;40;34mInformation about Machine Brain:\u001b[0m\u001b[38;2;230;219;116;48;2;39;40;34m\"\u001b[0m\u001b[38;2;248;248;242;48;2;39;40;34m,\u001b[0m\u001b[38;2;248;248;242;48;2;39;40;34m \u001b[0m\u001b[38;2;248;248;242;48;2;39;40;34mmachine_brain_info\u001b[0m\u001b[38;2;248;248;242;48;2;39;40;34m)\u001b[0m\u001b[48;2;39;40;34m                                                  \u001b[0m  \n",
       " ───────────────────────────────────────────────────────────────────────────────────────────────────────────────── \n"
      ]
     },
     "metadata": {},
     "output_type": "display_data"
    },
    {
     "data": {
      "text/html": [
       "<pre style=\"white-space:pre;overflow-x:auto;line-height:normal;font-family:Menlo,'DejaVu Sans Mono',consolas,'Courier New',monospace\"><span style=\"font-weight: bold\">Execution logs:</span>\n",
       "Information about Human Brain: ## Search Results\n",
       "\n",
       "[Human brain - Wikipedia](https://en.wikipedia.org/wiki/Human_brain)\n",
       "The human brain is the central organ of the nervous system, and with the spinal cord, comprises the central nervous\n",
       "system.It consists of the cerebrum, the brainstem and the cerebellum.The brain controls most of the activities of \n",
       "the body, processing, integrating, and coordinating the information it receives from the sensory nervous system.The\n",
       "brain integrates the instructions sent to the rest ...\n",
       "\n",
       "[Brain Anatomy and How the Brain Works - Johns Hopkins \n",
       "Medicine](https://www.hopkinsmedicine.org/health/conditions-and-diseases/anatomy-of-the-brain)\n",
       "Learn about the structure and functions of the brain, its main parts, coverings and lobes. The brain controls \n",
       "thought, memory, emotion, movement, senses and more.\n",
       "\n",
       "[Brain Basics: Know Your Brain | National Institute of Neurological \n",
       "...](https://www.ninds.nih.gov/health-information/public-education/brain-basics/brain-basics-know-your-brain)\n",
       "Learn about the structure, functions, and disorders of the human brain from the National Institute of Neurological \n",
       "Disorders and Stroke. Explore the cerebrum, cerebellum, brainstem, and inner brain with diagrams and examples.\n",
       "\n",
       "[Brain - Wikipedia](https://en.wikipedia.org/wiki/Brain)\n",
       "The brain is an organ that serves as the center of the nervous system in all vertebrate and most invertebrate \n",
       "animals.It consists of nervous tissue and is typically located in the head (cephalization), usually near organs for\n",
       "special senses such as vision, hearing and olfaction.Being the most specialized organ, it is responsible for \n",
       "receiving information from the sensory nervous system ...\n",
       "\n",
       "[Brain | Definition, Parts, Functions, &amp; Facts | Britannica](https://www.britannica.com/science/brain)\n",
       "Learn about the structure and functions of the human brain, the central nervous system, and the cerebral \n",
       "hemispheres. Explore the brain's regions, lobes, synapses, and how they relate to learning, memory, and cognition.\n",
       "\n",
       "[Brain: Parts, Function, How It Works &amp; Conditions - Cleveland \n",
       "Clinic](https://my.clevelandclinic.org/health/body/22638-brain)\n",
       "There are close to 86 billion nerve cells (neurons) in the human brain and an equal amount of non-neuronal glial \n",
       "cells: Neurons send and receive electric and chemical signals. Glial cells help maintain your brain, form myelin (a\n",
       "fatty, protective substance found in white matter) and provide nutrition to your brain.\n",
       "\n",
       "[Parts of the Brain and Their Functions - Science Notes and \n",
       "Projects](https://sciencenotes.org/parts-of-the-brain-and-their-functions/)\n",
       "How many neurons are in the human brain? There are about 86 billion neurons in the human brain. These neurons are \n",
       "connected by trillions of synapses, forming a complex networks. How much does the human brain weigh? The average \n",
       "adult human brain weighs about 1.3 to 1.4 kilograms (about 3 pounds). This weight represents about 2% of the total \n",
       "body ...\n",
       "\n",
       "[Human Brain: Facts, Functions &amp; Anatomy - Live Science](https://www.livescience.com/29365-human-brain.html)\n",
       "The human brain is the command center for the human nervous system. It receives signals from the body's sensory \n",
       "organs and outputs information to the muscles .\n",
       "\n",
       "[In brief: How does the brain work? - InformedHealth.org - NCBI \n",
       "Bookshelf](https://www.ncbi.nlm.nih.gov/books/NBK279302/)\n",
       "The brain works like a big computer. It processes information that it receives from the senses and body, and sends \n",
       "messages back to the body. But the brain can do much more than a machine can: We think and experience emotions with\n",
       "our brain, and it is the root of human intelligence. The human brain is roughly the size of two clenched fists and \n",
       "weighs about 1.5 kilograms. From the outside it ...\n",
       "\n",
       "[Human Brain - Structure, Diagram, Parts Of Human Brain - BYJU'S](https://byjus.com/biology/human-brain/)\n",
       "The human brain controls nearly every aspect of the human body ranging from physiological functions to cognitive \n",
       "abilities. It functions by receiving and sending signals via neurons to different parts of the body. T he human \n",
       "brain, just like most other mammals, has the same basic structure, but it is better developed than any other \n",
       "mammalian brain.\n",
       "Information about Machine Brain: ## Search Results\n",
       "\n",
       "[Brain-computer interface - Wikipedia](https://en.wikipedia.org/wiki/Brain–computer_interface)\n",
       "A brain-computer interface (BCI), sometimes called a brain-machine interface (BMI), is a direct communication link \n",
       "between the brain's electrical activity and an external device, ... This may reflect the brain's information \n",
       "processing limit. Alternatively, this limit may be intrinsic to language itself, as a modality for information \n",
       "transfer.\n",
       "\n",
       "[Brain machine interfaces: powerful tools for clinical treatment and \n",
       "...](https://pmc.ncbi.nlm.nih.gov/articles/PMC6611552/)\n",
       "Brain machine interfaces (BMIs) have exploded in popularity in the past decade. BMIs, also called brain computer \n",
       "interfaces, provide a direct link between the brain and a computer, usually to control an external device. BMIs \n",
       "have a wide array of potential clinical applications, ranging from restoring communication to people unable to \n",
       "speak due ...\n",
       "\n",
       "[The combination of brain-computer interfaces and artificial \n",
       "...](https://pmc.ncbi.nlm.nih.gov/articles/PMC7327323/)\n",
       "Brain information as digitally stored neural data can also be exploited by others with sufficient computational \n",
       "power to make inferences about our memory, ... Brain-Machine Interfaces: Powerful Tools for Clinical Treatment and \n",
       "Neuroscientific Investigations. Neuroscientist 2019;25:139-54. 10.1177/1073858418775355 ...\n",
       "\n",
       "[BCI and AI Allow the Mind to Control Robot \n",
       "Arm](https://www.psychologytoday.com/us/blog/the-future-brain/202503/bci-and-ai-allow-the-mind-to-control-robot-arm\n",
       ")\n",
       "Scientists at University of California San Francisco (UCSF) have published in Cell a new study that demonstrates a \n",
       "brain-computer interface (BCI) powered by artificial intelligence (AI) machine ...\n",
       "\n",
       "[Summary of over Fifty Years with Brain-Computer Interfaces—A \n",
       "Review](https://pmc.ncbi.nlm.nih.gov/articles/PMC7824107/)\n",
       "The brain signals in their nature have spatio-temporal information. The BCIs are applied to process this \n",
       "information along with a specific task, which can be used e.g., for detection purposes. In fact, the performance of\n",
       "the BCI systems strongly depends on the quality of provided information (in this case—brain activity related \n",
       "signal) [146,229].\n",
       "\n",
       "[Brain-machine interface - Latest research and news - \n",
       "Nature](https://www.nature.com/subjects/brain-machine-interface)\n",
       "A brain-machine interface (BMI) is a device that translates neuronal information into commands capable of \n",
       "controlling external software or hardware such as a computer or robotic arm. BMIs are ...\n",
       "\n",
       "[Machines That Translate Wants into Actions - Scientific \n",
       "American](https://www.scientificamerican.com/article/machines-that-translate-wants-into-actions/)\n",
       "These locations process sensory information, communicate to other brain regions involved with cognition, make \n",
       "decisions or send commands to trigger an action. In short, a brain-machine interface ...\n",
       "\n",
       "[Structure of a Machine Brain | SpringerLink](https://link.springer.com/chapter/10.1007/978-981-19-0272-7_1)\n",
       "1.1.1 The External Structure. Machine brain represents the highest-level artificial intelligence (AI), which can \n",
       "also be termed as brain-inspired intelligence, or strong AI [1,2,3].To understand the structure of a machine brain,\n",
       "we need first understand well about the physiological structure and functional zoning of the human brain \n",
       "[4,5,6].The major contents of a human brain are water (about ...\n",
       "\n",
       "[Brain-Machine Interfaces: Insights from Richard Andersen | Caltech \n",
       "...](https://scienceexchange.caltech.edu/topics/neuroscience/neuroscience-experts/brain-machine-interfaces-richard-\n",
       "andersen)\n",
       "In the research group of Richard Andersen, Caltech's James G. Boswell Professor of Neuroscience and director and \n",
       "leadership chair of the T&amp;C Chen Brain-Machine Interface Center, scientists explore the brain signals that encode \n",
       "movement and speech and use that information to develop systems called neural prosthetics that would restore these \n",
       "...\n",
       "\n",
       "[Brains and Machines - Cambridge Neuroscience](https://neuroscience.cam.ac.uk/research-themes/brains-and-machines/)\n",
       "Brains and Machines encapsulates the development of artificial intelligence approaches with applications in \n",
       "neuroscience and mental health, including computational neuroscience approaches and artificial networks to advance:\n",
       "a) our understanding of the workings of the brain, b) the design of neuro-inspired artificial systems, c) diagnosis\n",
       "of disease and prediction of treatment outcomes, paving ...\n",
       "\n",
       "Out: None\n",
       "</pre>\n"
      ],
      "text/plain": [
       "\u001b[1mExecution logs:\u001b[0m\n",
       "Information about Human Brain: ## Search Results\n",
       "\n",
       "[Human brain - Wikipedia](https://en.wikipedia.org/wiki/Human_brain)\n",
       "The human brain is the central organ of the nervous system, and with the spinal cord, comprises the central nervous\n",
       "system.It consists of the cerebrum, the brainstem and the cerebellum.The brain controls most of the activities of \n",
       "the body, processing, integrating, and coordinating the information it receives from the sensory nervous system.The\n",
       "brain integrates the instructions sent to the rest ...\n",
       "\n",
       "[Brain Anatomy and How the Brain Works - Johns Hopkins \n",
       "Medicine](https://www.hopkinsmedicine.org/health/conditions-and-diseases/anatomy-of-the-brain)\n",
       "Learn about the structure and functions of the brain, its main parts, coverings and lobes. The brain controls \n",
       "thought, memory, emotion, movement, senses and more.\n",
       "\n",
       "[Brain Basics: Know Your Brain | National Institute of Neurological \n",
       "...](https://www.ninds.nih.gov/health-information/public-education/brain-basics/brain-basics-know-your-brain)\n",
       "Learn about the structure, functions, and disorders of the human brain from the National Institute of Neurological \n",
       "Disorders and Stroke. Explore the cerebrum, cerebellum, brainstem, and inner brain with diagrams and examples.\n",
       "\n",
       "[Brain - Wikipedia](https://en.wikipedia.org/wiki/Brain)\n",
       "The brain is an organ that serves as the center of the nervous system in all vertebrate and most invertebrate \n",
       "animals.It consists of nervous tissue and is typically located in the head (cephalization), usually near organs for\n",
       "special senses such as vision, hearing and olfaction.Being the most specialized organ, it is responsible for \n",
       "receiving information from the sensory nervous system ...\n",
       "\n",
       "[Brain | Definition, Parts, Functions, & Facts | Britannica](https://www.britannica.com/science/brain)\n",
       "Learn about the structure and functions of the human brain, the central nervous system, and the cerebral \n",
       "hemispheres. Explore the brain's regions, lobes, synapses, and how they relate to learning, memory, and cognition.\n",
       "\n",
       "[Brain: Parts, Function, How It Works & Conditions - Cleveland \n",
       "Clinic](https://my.clevelandclinic.org/health/body/22638-brain)\n",
       "There are close to 86 billion nerve cells (neurons) in the human brain and an equal amount of non-neuronal glial \n",
       "cells: Neurons send and receive electric and chemical signals. Glial cells help maintain your brain, form myelin (a\n",
       "fatty, protective substance found in white matter) and provide nutrition to your brain.\n",
       "\n",
       "[Parts of the Brain and Their Functions - Science Notes and \n",
       "Projects](https://sciencenotes.org/parts-of-the-brain-and-their-functions/)\n",
       "How many neurons are in the human brain? There are about 86 billion neurons in the human brain. These neurons are \n",
       "connected by trillions of synapses, forming a complex networks. How much does the human brain weigh? The average \n",
       "adult human brain weighs about 1.3 to 1.4 kilograms (about 3 pounds). This weight represents about 2% of the total \n",
       "body ...\n",
       "\n",
       "[Human Brain: Facts, Functions & Anatomy - Live Science](https://www.livescience.com/29365-human-brain.html)\n",
       "The human brain is the command center for the human nervous system. It receives signals from the body's sensory \n",
       "organs and outputs information to the muscles .\n",
       "\n",
       "[In brief: How does the brain work? - InformedHealth.org - NCBI \n",
       "Bookshelf](https://www.ncbi.nlm.nih.gov/books/NBK279302/)\n",
       "The brain works like a big computer. It processes information that it receives from the senses and body, and sends \n",
       "messages back to the body. But the brain can do much more than a machine can: We think and experience emotions with\n",
       "our brain, and it is the root of human intelligence. The human brain is roughly the size of two clenched fists and \n",
       "weighs about 1.5 kilograms. From the outside it ...\n",
       "\n",
       "[Human Brain - Structure, Diagram, Parts Of Human Brain - BYJU'S](https://byjus.com/biology/human-brain/)\n",
       "The human brain controls nearly every aspect of the human body ranging from physiological functions to cognitive \n",
       "abilities. It functions by receiving and sending signals via neurons to different parts of the body. T he human \n",
       "brain, just like most other mammals, has the same basic structure, but it is better developed than any other \n",
       "mammalian brain.\n",
       "Information about Machine Brain: ## Search Results\n",
       "\n",
       "[Brain-computer interface - Wikipedia](https://en.wikipedia.org/wiki/Brain–computer_interface)\n",
       "A brain-computer interface (BCI), sometimes called a brain-machine interface (BMI), is a direct communication link \n",
       "between the brain's electrical activity and an external device, ... This may reflect the brain's information \n",
       "processing limit. Alternatively, this limit may be intrinsic to language itself, as a modality for information \n",
       "transfer.\n",
       "\n",
       "[Brain machine interfaces: powerful tools for clinical treatment and \n",
       "...](https://pmc.ncbi.nlm.nih.gov/articles/PMC6611552/)\n",
       "Brain machine interfaces (BMIs) have exploded in popularity in the past decade. BMIs, also called brain computer \n",
       "interfaces, provide a direct link between the brain and a computer, usually to control an external device. BMIs \n",
       "have a wide array of potential clinical applications, ranging from restoring communication to people unable to \n",
       "speak due ...\n",
       "\n",
       "[The combination of brain-computer interfaces and artificial \n",
       "...](https://pmc.ncbi.nlm.nih.gov/articles/PMC7327323/)\n",
       "Brain information as digitally stored neural data can also be exploited by others with sufficient computational \n",
       "power to make inferences about our memory, ... Brain-Machine Interfaces: Powerful Tools for Clinical Treatment and \n",
       "Neuroscientific Investigations. Neuroscientist 2019;25:139-54. 10.1177/1073858418775355 ...\n",
       "\n",
       "[BCI and AI Allow the Mind to Control Robot \n",
       "Arm](https://www.psychologytoday.com/us/blog/the-future-brain/202503/bci-and-ai-allow-the-mind-to-control-robot-arm\n",
       ")\n",
       "Scientists at University of California San Francisco (UCSF) have published in Cell a new study that demonstrates a \n",
       "brain-computer interface (BCI) powered by artificial intelligence (AI) machine ...\n",
       "\n",
       "[Summary of over Fifty Years with Brain-Computer Interfaces—A \n",
       "Review](https://pmc.ncbi.nlm.nih.gov/articles/PMC7824107/)\n",
       "The brain signals in their nature have spatio-temporal information. The BCIs are applied to process this \n",
       "information along with a specific task, which can be used e.g., for detection purposes. In fact, the performance of\n",
       "the BCI systems strongly depends on the quality of provided information (in this case—brain activity related \n",
       "signal) [146,229].\n",
       "\n",
       "[Brain-machine interface - Latest research and news - \n",
       "Nature](https://www.nature.com/subjects/brain-machine-interface)\n",
       "A brain-machine interface (BMI) is a device that translates neuronal information into commands capable of \n",
       "controlling external software or hardware such as a computer or robotic arm. BMIs are ...\n",
       "\n",
       "[Machines That Translate Wants into Actions - Scientific \n",
       "American](https://www.scientificamerican.com/article/machines-that-translate-wants-into-actions/)\n",
       "These locations process sensory information, communicate to other brain regions involved with cognition, make \n",
       "decisions or send commands to trigger an action. In short, a brain-machine interface ...\n",
       "\n",
       "[Structure of a Machine Brain | SpringerLink](https://link.springer.com/chapter/10.1007/978-981-19-0272-7_1)\n",
       "1.1.1 The External Structure. Machine brain represents the highest-level artificial intelligence (AI), which can \n",
       "also be termed as brain-inspired intelligence, or strong AI [1,2,3].To understand the structure of a machine brain,\n",
       "we need first understand well about the physiological structure and functional zoning of the human brain \n",
       "[4,5,6].The major contents of a human brain are water (about ...\n",
       "\n",
       "[Brain-Machine Interfaces: Insights from Richard Andersen | Caltech \n",
       "...](https://scienceexchange.caltech.edu/topics/neuroscience/neuroscience-experts/brain-machine-interfaces-richard-\n",
       "andersen)\n",
       "In the research group of Richard Andersen, Caltech's James G. Boswell Professor of Neuroscience and director and \n",
       "leadership chair of the T&C Chen Brain-Machine Interface Center, scientists explore the brain signals that encode \n",
       "movement and speech and use that information to develop systems called neural prosthetics that would restore these \n",
       "...\n",
       "\n",
       "[Brains and Machines - Cambridge Neuroscience](https://neuroscience.cam.ac.uk/research-themes/brains-and-machines/)\n",
       "Brains and Machines encapsulates the development of artificial intelligence approaches with applications in \n",
       "neuroscience and mental health, including computational neuroscience approaches and artificial networks to advance:\n",
       "a) our understanding of the workings of the brain, b) the design of neuro-inspired artificial systems, c) diagnosis\n",
       "of disease and prediction of treatment outcomes, paving ...\n",
       "\n",
       "Out: None\n"
      ]
     },
     "metadata": {},
     "output_type": "display_data"
    },
    {
     "data": {
      "text/html": [
       "<pre style=\"white-space:pre;overflow-x:auto;line-height:normal;font-family:Menlo,'DejaVu Sans Mono',consolas,'Courier New',monospace\"><span style=\"color: #7f7f7f; text-decoration-color: #7f7f7f\">[Step 1: Duration 8.07 seconds| Input tokens: 2,077 | Output tokens: 94]</span>\n",
       "</pre>\n"
      ],
      "text/plain": [
       "\u001b[2m[Step 1: Duration 8.07 seconds| Input tokens: 2,077 | Output tokens: 94]\u001b[0m\n"
      ]
     },
     "metadata": {},
     "output_type": "display_data"
    },
    {
     "data": {
      "text/html": [
       "<pre style=\"white-space:pre;overflow-x:auto;line-height:normal;font-family:Menlo,'DejaVu Sans Mono',consolas,'Courier New',monospace\"><span style=\"color: #d4b702; text-decoration-color: #d4b702\">━━━━━━━━━━━━━━━━━━━━━━━━━━━━━━━━━━━━━━━━━━━━━━━━━━━━━ </span><span style=\"font-weight: bold\">Step </span><span style=\"color: #008080; text-decoration-color: #008080; font-weight: bold\">2</span><span style=\"color: #d4b702; text-decoration-color: #d4b702\"> ━━━━━━━━━━━━━━━━━━━━━━━━━━━━━━━━━━━━━━━━━━━━━━━━━━━━━━</span>\n",
       "</pre>\n"
      ],
      "text/plain": [
       "\u001b[38;2;212;183;2m━━━━━━━━━━━━━━━━━━━━━━━━━━━━━━━━━━━━━━━━━━━━━━━━━━━━━ \u001b[0m\u001b[1mStep \u001b[0m\u001b[1;36m2\u001b[0m\u001b[38;2;212;183;2m ━━━━━━━━━━━━━━━━━━━━━━━━━━━━━━━━━━━━━━━━━━━━━━━━━━━━━━\u001b[0m\n"
      ]
     },
     "metadata": {},
     "output_type": "display_data"
    },
    {
     "data": {
      "text/html": [
       "<pre style=\"white-space:pre;overflow-x:auto;line-height:normal;font-family:Menlo,'DejaVu Sans Mono',consolas,'Courier New',monospace\"> ─ <span style=\"font-weight: bold\">Executing parsed code:</span> ──────────────────────────────────────────────────────────────────────────────────────── \n",
       "  <span style=\"color: #959077; text-decoration-color: #959077; background-color: #272822\"># Extract relevant points from the search results</span><span style=\"background-color: #272822\">                                                              </span>  \n",
       "  <span style=\"color: #f8f8f2; text-decoration-color: #f8f8f2; background-color: #272822\">human_brain_points </span><span style=\"color: #ff4689; text-decoration-color: #ff4689; background-color: #272822\">=</span><span style=\"color: #f8f8f2; text-decoration-color: #f8f8f2; background-color: #272822\"> [</span><span style=\"background-color: #272822\">                                                                                         </span>  \n",
       "  <span style=\"color: #f8f8f2; text-decoration-color: #f8f8f2; background-color: #272822\">    </span><span style=\"color: #e6db74; text-decoration-color: #e6db74; background-color: #272822\">\"The human brain is the central organ of the nervous system, including the cerebrum, brainstem, and </span><span style=\"background-color: #272822\">       </span>  \n",
       "  <span style=\"color: #e6db74; text-decoration-color: #e6db74; background-color: #272822\">cerebellum.\"</span><span style=\"color: #f8f8f2; text-decoration-color: #f8f8f2; background-color: #272822\">,</span><span style=\"background-color: #272822\">                                                                                                  </span>  \n",
       "  <span style=\"color: #f8f8f2; text-decoration-color: #f8f8f2; background-color: #272822\">    </span><span style=\"color: #e6db74; text-decoration-color: #e6db74; background-color: #272822\">\"It controls body activities, processes, integrates, and coordinates sensory information.\"</span><span style=\"color: #f8f8f2; text-decoration-color: #f8f8f2; background-color: #272822\">,</span><span style=\"background-color: #272822\">                </span>  \n",
       "  <span style=\"color: #f8f8f2; text-decoration-color: #f8f8f2; background-color: #272822\">    </span><span style=\"color: #e6db74; text-decoration-color: #e6db74; background-color: #272822\">\"The brain comprises neurons (86 billion) and glial cells that form complex networks.\"</span><span style=\"color: #f8f8f2; text-decoration-color: #f8f8f2; background-color: #272822\">,</span><span style=\"background-color: #272822\">                    </span>  \n",
       "  <span style=\"color: #f8f8f2; text-decoration-color: #f8f8f2; background-color: #272822\">    </span><span style=\"color: #e6db74; text-decoration-color: #e6db74; background-color: #272822\">\"It has adaptive and learning capabilities.\"</span><span style=\"background-color: #272822\">                                                               </span>  \n",
       "  <span style=\"color: #f8f8f2; text-decoration-color: #f8f8f2; background-color: #272822\">]</span><span style=\"background-color: #272822\">                                                                                                              </span>  \n",
       "  <span style=\"background-color: #272822\">                                                                                                               </span>  \n",
       "  <span style=\"color: #f8f8f2; text-decoration-color: #f8f8f2; background-color: #272822\">machine_brain_points </span><span style=\"color: #ff4689; text-decoration-color: #ff4689; background-color: #272822\">=</span><span style=\"color: #f8f8f2; text-decoration-color: #f8f8f2; background-color: #272822\"> [</span><span style=\"background-color: #272822\">                                                                                       </span>  \n",
       "  <span style=\"color: #f8f8f2; text-decoration-color: #f8f8f2; background-color: #272822\">    </span><span style=\"color: #e6db74; text-decoration-color: #e6db74; background-color: #272822\">\"Brain-computer interfaces (BCIs) or brain-machine interfaces (BMIs) link brain's electrical activity to </span><span style=\"background-color: #272822\">  </span>  \n",
       "  <span style=\"color: #e6db74; text-decoration-color: #e6db74; background-color: #272822\">external devices.\"</span><span style=\"color: #f8f8f2; text-decoration-color: #f8f8f2; background-color: #272822\">,</span><span style=\"background-color: #272822\">                                                                                            </span>  \n",
       "  <span style=\"color: #f8f8f2; text-decoration-color: #f8f8f2; background-color: #272822\">    </span><span style=\"color: #e6db74; text-decoration-color: #e6db74; background-color: #272822\">\"They translate brain signals into commands for controlling external objects, such as robotic arms.\"</span><span style=\"color: #f8f8f2; text-decoration-color: #f8f8f2; background-color: #272822\">,</span><span style=\"background-color: #272822\">      </span>  \n",
       "  <span style=\"color: #f8f8f2; text-decoration-color: #f8f8f2; background-color: #272822\">    </span><span style=\"color: #e6db74; text-decoration-color: #e6db74; background-color: #272822\">\"BCIs are used for clinical treatment, restoring communication, and neuroscientific research.\"</span><span style=\"color: #f8f8f2; text-decoration-color: #f8f8f2; background-color: #272822\">,</span><span style=\"background-color: #272822\">            </span>  \n",
       "  <span style=\"color: #f8f8f2; text-decoration-color: #f8f8f2; background-color: #272822\">    </span><span style=\"color: #e6db74; text-decoration-color: #e6db74; background-color: #272822\">\"Machine brains are designed based on understanding human brain physiology for artificial intelligence.\"</span><span style=\"background-color: #272822\">   </span>  \n",
       "  <span style=\"color: #f8f8f2; text-decoration-color: #f8f8f2; background-color: #272822\">]</span><span style=\"background-color: #272822\">                                                                                                              </span>  \n",
       "  <span style=\"background-color: #272822\">                                                                                                               </span>  \n",
       "  <span style=\"color: #959077; text-decoration-color: #959077; background-color: #272822\"># Printing differences</span><span style=\"background-color: #272822\">                                                                                         </span>  \n",
       "  <span style=\"color: #f8f8f2; text-decoration-color: #f8f8f2; background-color: #272822\">print(</span><span style=\"color: #e6db74; text-decoration-color: #e6db74; background-color: #272822\">\"Human Brain Characteristics:\"</span><span style=\"color: #f8f8f2; text-decoration-color: #f8f8f2; background-color: #272822\">)</span><span style=\"background-color: #272822\">                                                                          </span>  \n",
       "  <span style=\"color: #66d9ef; text-decoration-color: #66d9ef; background-color: #272822\">for</span><span style=\"color: #f8f8f2; text-decoration-color: #f8f8f2; background-color: #272822\"> point </span><span style=\"color: #ff4689; text-decoration-color: #ff4689; background-color: #272822\">in</span><span style=\"color: #f8f8f2; text-decoration-color: #f8f8f2; background-color: #272822\"> human_brain_points:</span><span style=\"background-color: #272822\">                                                                               </span>  \n",
       "  <span style=\"color: #f8f8f2; text-decoration-color: #f8f8f2; background-color: #272822\">    print(</span><span style=\"color: #e6db74; text-decoration-color: #e6db74; background-color: #272822\">f\"- {</span><span style=\"color: #f8f8f2; text-decoration-color: #f8f8f2; background-color: #272822\">point</span><span style=\"color: #e6db74; text-decoration-color: #e6db74; background-color: #272822\">}\"</span><span style=\"color: #f8f8f2; text-decoration-color: #f8f8f2; background-color: #272822\">)</span><span style=\"background-color: #272822\">                                                                                        </span>  \n",
       "  <span style=\"background-color: #272822\">                                                                                                               </span>  \n",
       "  <span style=\"color: #f8f8f2; text-decoration-color: #f8f8f2; background-color: #272822\">print(</span><span style=\"color: #e6db74; text-decoration-color: #e6db74; background-color: #272822\">\"</span><span style=\"color: #ae81ff; text-decoration-color: #ae81ff; background-color: #272822\">\\n</span><span style=\"color: #e6db74; text-decoration-color: #e6db74; background-color: #272822\">Machine Brain Characteristics:\"</span><span style=\"color: #f8f8f2; text-decoration-color: #f8f8f2; background-color: #272822\">)</span><span style=\"background-color: #272822\">                                                                      </span>  \n",
       "  <span style=\"color: #66d9ef; text-decoration-color: #66d9ef; background-color: #272822\">for</span><span style=\"color: #f8f8f2; text-decoration-color: #f8f8f2; background-color: #272822\"> point </span><span style=\"color: #ff4689; text-decoration-color: #ff4689; background-color: #272822\">in</span><span style=\"color: #f8f8f2; text-decoration-color: #f8f8f2; background-color: #272822\"> machine_brain_points:</span><span style=\"background-color: #272822\">                                                                             </span>  \n",
       "  <span style=\"color: #f8f8f2; text-decoration-color: #f8f8f2; background-color: #272822\">    print(</span><span style=\"color: #e6db74; text-decoration-color: #e6db74; background-color: #272822\">f\"- {</span><span style=\"color: #f8f8f2; text-decoration-color: #f8f8f2; background-color: #272822\">point</span><span style=\"color: #e6db74; text-decoration-color: #e6db74; background-color: #272822\">}\"</span><span style=\"color: #f8f8f2; text-decoration-color: #f8f8f2; background-color: #272822\">)</span><span style=\"background-color: #272822\">                                                                                        </span>  \n",
       " ───────────────────────────────────────────────────────────────────────────────────────────────────────────────── \n",
       "</pre>\n"
      ],
      "text/plain": [
       " ─ \u001b[1mExecuting parsed code:\u001b[0m ──────────────────────────────────────────────────────────────────────────────────────── \n",
       "  \u001b[38;2;149;144;119;48;2;39;40;34m# Extract relevant points from the search results\u001b[0m\u001b[48;2;39;40;34m                                                              \u001b[0m  \n",
       "  \u001b[38;2;248;248;242;48;2;39;40;34mhuman_brain_points\u001b[0m\u001b[38;2;248;248;242;48;2;39;40;34m \u001b[0m\u001b[38;2;255;70;137;48;2;39;40;34m=\u001b[0m\u001b[38;2;248;248;242;48;2;39;40;34m \u001b[0m\u001b[38;2;248;248;242;48;2;39;40;34m[\u001b[0m\u001b[48;2;39;40;34m                                                                                         \u001b[0m  \n",
       "  \u001b[38;2;248;248;242;48;2;39;40;34m    \u001b[0m\u001b[38;2;230;219;116;48;2;39;40;34m\"\u001b[0m\u001b[38;2;230;219;116;48;2;39;40;34mThe human brain is the central organ of the nervous system, including the cerebrum, brainstem, and \u001b[0m\u001b[48;2;39;40;34m       \u001b[0m  \n",
       "  \u001b[38;2;230;219;116;48;2;39;40;34mcerebellum.\u001b[0m\u001b[38;2;230;219;116;48;2;39;40;34m\"\u001b[0m\u001b[38;2;248;248;242;48;2;39;40;34m,\u001b[0m\u001b[48;2;39;40;34m                                                                                                  \u001b[0m  \n",
       "  \u001b[38;2;248;248;242;48;2;39;40;34m    \u001b[0m\u001b[38;2;230;219;116;48;2;39;40;34m\"\u001b[0m\u001b[38;2;230;219;116;48;2;39;40;34mIt controls body activities, processes, integrates, and coordinates sensory information.\u001b[0m\u001b[38;2;230;219;116;48;2;39;40;34m\"\u001b[0m\u001b[38;2;248;248;242;48;2;39;40;34m,\u001b[0m\u001b[48;2;39;40;34m                \u001b[0m  \n",
       "  \u001b[38;2;248;248;242;48;2;39;40;34m    \u001b[0m\u001b[38;2;230;219;116;48;2;39;40;34m\"\u001b[0m\u001b[38;2;230;219;116;48;2;39;40;34mThe brain comprises neurons (86 billion) and glial cells that form complex networks.\u001b[0m\u001b[38;2;230;219;116;48;2;39;40;34m\"\u001b[0m\u001b[38;2;248;248;242;48;2;39;40;34m,\u001b[0m\u001b[48;2;39;40;34m                    \u001b[0m  \n",
       "  \u001b[38;2;248;248;242;48;2;39;40;34m    \u001b[0m\u001b[38;2;230;219;116;48;2;39;40;34m\"\u001b[0m\u001b[38;2;230;219;116;48;2;39;40;34mIt has adaptive and learning capabilities.\u001b[0m\u001b[38;2;230;219;116;48;2;39;40;34m\"\u001b[0m\u001b[48;2;39;40;34m                                                               \u001b[0m  \n",
       "  \u001b[38;2;248;248;242;48;2;39;40;34m]\u001b[0m\u001b[48;2;39;40;34m                                                                                                              \u001b[0m  \n",
       "  \u001b[48;2;39;40;34m                                                                                                               \u001b[0m  \n",
       "  \u001b[38;2;248;248;242;48;2;39;40;34mmachine_brain_points\u001b[0m\u001b[38;2;248;248;242;48;2;39;40;34m \u001b[0m\u001b[38;2;255;70;137;48;2;39;40;34m=\u001b[0m\u001b[38;2;248;248;242;48;2;39;40;34m \u001b[0m\u001b[38;2;248;248;242;48;2;39;40;34m[\u001b[0m\u001b[48;2;39;40;34m                                                                                       \u001b[0m  \n",
       "  \u001b[38;2;248;248;242;48;2;39;40;34m    \u001b[0m\u001b[38;2;230;219;116;48;2;39;40;34m\"\u001b[0m\u001b[38;2;230;219;116;48;2;39;40;34mBrain-computer interfaces (BCIs) or brain-machine interfaces (BMIs) link brain\u001b[0m\u001b[38;2;230;219;116;48;2;39;40;34m'\u001b[0m\u001b[38;2;230;219;116;48;2;39;40;34ms electrical activity to \u001b[0m\u001b[48;2;39;40;34m  \u001b[0m  \n",
       "  \u001b[38;2;230;219;116;48;2;39;40;34mexternal devices.\u001b[0m\u001b[38;2;230;219;116;48;2;39;40;34m\"\u001b[0m\u001b[38;2;248;248;242;48;2;39;40;34m,\u001b[0m\u001b[48;2;39;40;34m                                                                                            \u001b[0m  \n",
       "  \u001b[38;2;248;248;242;48;2;39;40;34m    \u001b[0m\u001b[38;2;230;219;116;48;2;39;40;34m\"\u001b[0m\u001b[38;2;230;219;116;48;2;39;40;34mThey translate brain signals into commands for controlling external objects, such as robotic arms.\u001b[0m\u001b[38;2;230;219;116;48;2;39;40;34m\"\u001b[0m\u001b[38;2;248;248;242;48;2;39;40;34m,\u001b[0m\u001b[48;2;39;40;34m      \u001b[0m  \n",
       "  \u001b[38;2;248;248;242;48;2;39;40;34m    \u001b[0m\u001b[38;2;230;219;116;48;2;39;40;34m\"\u001b[0m\u001b[38;2;230;219;116;48;2;39;40;34mBCIs are used for clinical treatment, restoring communication, and neuroscientific research.\u001b[0m\u001b[38;2;230;219;116;48;2;39;40;34m\"\u001b[0m\u001b[38;2;248;248;242;48;2;39;40;34m,\u001b[0m\u001b[48;2;39;40;34m            \u001b[0m  \n",
       "  \u001b[38;2;248;248;242;48;2;39;40;34m    \u001b[0m\u001b[38;2;230;219;116;48;2;39;40;34m\"\u001b[0m\u001b[38;2;230;219;116;48;2;39;40;34mMachine brains are designed based on understanding human brain physiology for artificial intelligence.\u001b[0m\u001b[38;2;230;219;116;48;2;39;40;34m\"\u001b[0m\u001b[48;2;39;40;34m   \u001b[0m  \n",
       "  \u001b[38;2;248;248;242;48;2;39;40;34m]\u001b[0m\u001b[48;2;39;40;34m                                                                                                              \u001b[0m  \n",
       "  \u001b[48;2;39;40;34m                                                                                                               \u001b[0m  \n",
       "  \u001b[38;2;149;144;119;48;2;39;40;34m# Printing differences\u001b[0m\u001b[48;2;39;40;34m                                                                                         \u001b[0m  \n",
       "  \u001b[38;2;248;248;242;48;2;39;40;34mprint\u001b[0m\u001b[38;2;248;248;242;48;2;39;40;34m(\u001b[0m\u001b[38;2;230;219;116;48;2;39;40;34m\"\u001b[0m\u001b[38;2;230;219;116;48;2;39;40;34mHuman Brain Characteristics:\u001b[0m\u001b[38;2;230;219;116;48;2;39;40;34m\"\u001b[0m\u001b[38;2;248;248;242;48;2;39;40;34m)\u001b[0m\u001b[48;2;39;40;34m                                                                          \u001b[0m  \n",
       "  \u001b[38;2;102;217;239;48;2;39;40;34mfor\u001b[0m\u001b[38;2;248;248;242;48;2;39;40;34m \u001b[0m\u001b[38;2;248;248;242;48;2;39;40;34mpoint\u001b[0m\u001b[38;2;248;248;242;48;2;39;40;34m \u001b[0m\u001b[38;2;255;70;137;48;2;39;40;34min\u001b[0m\u001b[38;2;248;248;242;48;2;39;40;34m \u001b[0m\u001b[38;2;248;248;242;48;2;39;40;34mhuman_brain_points\u001b[0m\u001b[38;2;248;248;242;48;2;39;40;34m:\u001b[0m\u001b[48;2;39;40;34m                                                                               \u001b[0m  \n",
       "  \u001b[38;2;248;248;242;48;2;39;40;34m    \u001b[0m\u001b[38;2;248;248;242;48;2;39;40;34mprint\u001b[0m\u001b[38;2;248;248;242;48;2;39;40;34m(\u001b[0m\u001b[38;2;230;219;116;48;2;39;40;34mf\u001b[0m\u001b[38;2;230;219;116;48;2;39;40;34m\"\u001b[0m\u001b[38;2;230;219;116;48;2;39;40;34m- \u001b[0m\u001b[38;2;230;219;116;48;2;39;40;34m{\u001b[0m\u001b[38;2;248;248;242;48;2;39;40;34mpoint\u001b[0m\u001b[38;2;230;219;116;48;2;39;40;34m}\u001b[0m\u001b[38;2;230;219;116;48;2;39;40;34m\"\u001b[0m\u001b[38;2;248;248;242;48;2;39;40;34m)\u001b[0m\u001b[48;2;39;40;34m                                                                                        \u001b[0m  \n",
       "  \u001b[48;2;39;40;34m                                                                                                               \u001b[0m  \n",
       "  \u001b[38;2;248;248;242;48;2;39;40;34mprint\u001b[0m\u001b[38;2;248;248;242;48;2;39;40;34m(\u001b[0m\u001b[38;2;230;219;116;48;2;39;40;34m\"\u001b[0m\u001b[38;2;174;129;255;48;2;39;40;34m\\n\u001b[0m\u001b[38;2;230;219;116;48;2;39;40;34mMachine Brain Characteristics:\u001b[0m\u001b[38;2;230;219;116;48;2;39;40;34m\"\u001b[0m\u001b[38;2;248;248;242;48;2;39;40;34m)\u001b[0m\u001b[48;2;39;40;34m                                                                      \u001b[0m  \n",
       "  \u001b[38;2;102;217;239;48;2;39;40;34mfor\u001b[0m\u001b[38;2;248;248;242;48;2;39;40;34m \u001b[0m\u001b[38;2;248;248;242;48;2;39;40;34mpoint\u001b[0m\u001b[38;2;248;248;242;48;2;39;40;34m \u001b[0m\u001b[38;2;255;70;137;48;2;39;40;34min\u001b[0m\u001b[38;2;248;248;242;48;2;39;40;34m \u001b[0m\u001b[38;2;248;248;242;48;2;39;40;34mmachine_brain_points\u001b[0m\u001b[38;2;248;248;242;48;2;39;40;34m:\u001b[0m\u001b[48;2;39;40;34m                                                                             \u001b[0m  \n",
       "  \u001b[38;2;248;248;242;48;2;39;40;34m    \u001b[0m\u001b[38;2;248;248;242;48;2;39;40;34mprint\u001b[0m\u001b[38;2;248;248;242;48;2;39;40;34m(\u001b[0m\u001b[38;2;230;219;116;48;2;39;40;34mf\u001b[0m\u001b[38;2;230;219;116;48;2;39;40;34m\"\u001b[0m\u001b[38;2;230;219;116;48;2;39;40;34m- \u001b[0m\u001b[38;2;230;219;116;48;2;39;40;34m{\u001b[0m\u001b[38;2;248;248;242;48;2;39;40;34mpoint\u001b[0m\u001b[38;2;230;219;116;48;2;39;40;34m}\u001b[0m\u001b[38;2;230;219;116;48;2;39;40;34m\"\u001b[0m\u001b[38;2;248;248;242;48;2;39;40;34m)\u001b[0m\u001b[48;2;39;40;34m                                                                                        \u001b[0m  \n",
       " ───────────────────────────────────────────────────────────────────────────────────────────────────────────────── \n"
      ]
     },
     "metadata": {},
     "output_type": "display_data"
    },
    {
     "data": {
      "text/html": [
       "<pre style=\"white-space:pre;overflow-x:auto;line-height:normal;font-family:Menlo,'DejaVu Sans Mono',consolas,'Courier New',monospace\"><span style=\"font-weight: bold\">Execution logs:</span>\n",
       "Human Brain Characteristics:\n",
       "- The human brain is the central organ of the nervous system, including the cerebrum, brainstem, and cerebellum.\n",
       "- It controls body activities, processes, integrates, and coordinates sensory information.\n",
       "- The brain comprises neurons (86 billion) and glial cells that form complex networks.\n",
       "- It has adaptive and learning capabilities.\n",
       "\n",
       "Machine Brain Characteristics:\n",
       "- Brain-computer interfaces (BCIs) or brain-machine interfaces (BMIs) link brain's electrical activity to external \n",
       "devices.\n",
       "- They translate brain signals into commands for controlling external objects, such as robotic arms.\n",
       "- BCIs are used for clinical treatment, restoring communication, and neuroscientific research.\n",
       "- Machine brains are designed based on understanding human brain physiology for artificial intelligence.\n",
       "\n",
       "Out: None\n",
       "</pre>\n"
      ],
      "text/plain": [
       "\u001b[1mExecution logs:\u001b[0m\n",
       "Human Brain Characteristics:\n",
       "- The human brain is the central organ of the nervous system, including the cerebrum, brainstem, and cerebellum.\n",
       "- It controls body activities, processes, integrates, and coordinates sensory information.\n",
       "- The brain comprises neurons (86 billion) and glial cells that form complex networks.\n",
       "- It has adaptive and learning capabilities.\n",
       "\n",
       "Machine Brain Characteristics:\n",
       "- Brain-computer interfaces (BCIs) or brain-machine interfaces (BMIs) link brain's electrical activity to external \n",
       "devices.\n",
       "- They translate brain signals into commands for controlling external objects, such as robotic arms.\n",
       "- BCIs are used for clinical treatment, restoring communication, and neuroscientific research.\n",
       "- Machine brains are designed based on understanding human brain physiology for artificial intelligence.\n",
       "\n",
       "Out: None\n"
      ]
     },
     "metadata": {},
     "output_type": "display_data"
    },
    {
     "data": {
      "text/html": [
       "<pre style=\"white-space:pre;overflow-x:auto;line-height:normal;font-family:Menlo,'DejaVu Sans Mono',consolas,'Courier New',monospace\"><span style=\"color: #7f7f7f; text-decoration-color: #7f7f7f\">[Step 2: Duration 14.32 seconds| Input tokens: 6,237 | Output tokens: 369]</span>\n",
       "</pre>\n"
      ],
      "text/plain": [
       "\u001b[2m[Step 2: Duration 14.32 seconds| Input tokens: 6,237 | Output tokens: 369]\u001b[0m\n"
      ]
     },
     "metadata": {},
     "output_type": "display_data"
    },
    {
     "data": {
      "text/html": [
       "<pre style=\"white-space:pre;overflow-x:auto;line-height:normal;font-family:Menlo,'DejaVu Sans Mono',consolas,'Courier New',monospace\"><span style=\"color: #d4b702; text-decoration-color: #d4b702\">━━━━━━━━━━━━━━━━━━━━━━━━━━━━━━━━━━━━━━━━━━━━━━━━━━━━━ </span><span style=\"font-weight: bold\">Step </span><span style=\"color: #008080; text-decoration-color: #008080; font-weight: bold\">3</span><span style=\"color: #d4b702; text-decoration-color: #d4b702\"> ━━━━━━━━━━━━━━━━━━━━━━━━━━━━━━━━━━━━━━━━━━━━━━━━━━━━━━</span>\n",
       "</pre>\n"
      ],
      "text/plain": [
       "\u001b[38;2;212;183;2m━━━━━━━━━━━━━━━━━━━━━━━━━━━━━━━━━━━━━━━━━━━━━━━━━━━━━ \u001b[0m\u001b[1mStep \u001b[0m\u001b[1;36m3\u001b[0m\u001b[38;2;212;183;2m ━━━━━━━━━━━━━━━━━━━━━━━━━━━━━━━━━━━━━━━━━━━━━━━━━━━━━━\u001b[0m\n"
      ]
     },
     "metadata": {},
     "output_type": "display_data"
    },
    {
     "data": {
      "text/html": [
       "<pre style=\"white-space:pre;overflow-x:auto;line-height:normal;font-family:Menlo,'DejaVu Sans Mono',consolas,'Courier New',monospace\"> ─ <span style=\"font-weight: bold\">Executing parsed code:</span> ──────────────────────────────────────────────────────────────────────────────────────── \n",
       "  <span style=\"color: #f8f8f2; text-decoration-color: #f8f8f2; background-color: #272822\">final_answer(</span><span style=\"color: #e6db74; text-decoration-color: #e6db74; background-color: #272822\">\"The human brain is a biological organ composed of neurons and glial cells, controlling bodily </span><span style=\"background-color: #272822\">   </span>  \n",
       "  <span style=\"color: #e6db74; text-decoration-color: #e6db74; background-color: #272822\">activities and processing sensory information with adaptive and learning capabilities. Machine brains, on the </span><span style=\"background-color: #272822\"> </span>  \n",
       "  <span style=\"color: #e6db74; text-decoration-color: #e6db74; background-color: #272822\">other hand, are artificial systems that interface with neural signals to control external devices, often for </span><span style=\"background-color: #272822\">  </span>  \n",
       "  <span style=\"color: #e6db74; text-decoration-color: #e6db74; background-color: #272822\">clinical treatment and research purposes, and are designed based on principles from human brain structure.\"</span><span style=\"color: #f8f8f2; text-decoration-color: #f8f8f2; background-color: #272822\">)</span><span style=\"background-color: #272822\">   </span>  \n",
       " ───────────────────────────────────────────────────────────────────────────────────────────────────────────────── \n",
       "</pre>\n"
      ],
      "text/plain": [
       " ─ \u001b[1mExecuting parsed code:\u001b[0m ──────────────────────────────────────────────────────────────────────────────────────── \n",
       "  \u001b[38;2;248;248;242;48;2;39;40;34mfinal_answer\u001b[0m\u001b[38;2;248;248;242;48;2;39;40;34m(\u001b[0m\u001b[38;2;230;219;116;48;2;39;40;34m\"\u001b[0m\u001b[38;2;230;219;116;48;2;39;40;34mThe human brain is a biological organ composed of neurons and glial cells, controlling bodily \u001b[0m\u001b[48;2;39;40;34m   \u001b[0m  \n",
       "  \u001b[38;2;230;219;116;48;2;39;40;34mactivities and processing sensory information with adaptive and learning capabilities. Machine brains, on the \u001b[0m\u001b[48;2;39;40;34m \u001b[0m  \n",
       "  \u001b[38;2;230;219;116;48;2;39;40;34mother hand, are artificial systems that interface with neural signals to control external devices, often for \u001b[0m\u001b[48;2;39;40;34m  \u001b[0m  \n",
       "  \u001b[38;2;230;219;116;48;2;39;40;34mclinical treatment and research purposes, and are designed based on principles from human brain structure.\u001b[0m\u001b[38;2;230;219;116;48;2;39;40;34m\"\u001b[0m\u001b[38;2;248;248;242;48;2;39;40;34m)\u001b[0m\u001b[48;2;39;40;34m   \u001b[0m  \n",
       " ───────────────────────────────────────────────────────────────────────────────────────────────────────────────── \n"
      ]
     },
     "metadata": {},
     "output_type": "display_data"
    },
    {
     "data": {
      "text/html": [
       "<pre style=\"white-space:pre;overflow-x:auto;line-height:normal;font-family:Menlo,'DejaVu Sans Mono',consolas,'Courier New',monospace\"><span style=\"color: #d4b702; text-decoration-color: #d4b702; font-weight: bold\">Out - Final answer: The human brain is a biological organ composed of neurons and glial cells, controlling bodily </span>\n",
       "<span style=\"color: #d4b702; text-decoration-color: #d4b702; font-weight: bold\">activities and processing sensory information with adaptive and learning capabilities. Machine brains, on the other</span>\n",
       "<span style=\"color: #d4b702; text-decoration-color: #d4b702; font-weight: bold\">hand, are artificial systems that interface with neural signals to control external devices, often for clinical </span>\n",
       "<span style=\"color: #d4b702; text-decoration-color: #d4b702; font-weight: bold\">treatment and research purposes, and are designed based on principles from human brain structure.</span>\n",
       "</pre>\n"
      ],
      "text/plain": [
       "\u001b[1;38;2;212;183;2mOut - Final answer: The human brain is a biological organ composed of neurons and glial cells, controlling bodily \u001b[0m\n",
       "\u001b[1;38;2;212;183;2mactivities and processing sensory information with adaptive and learning capabilities. Machine brains, on the other\u001b[0m\n",
       "\u001b[1;38;2;212;183;2mhand, are artificial systems that interface with neural signals to control external devices, often for clinical \u001b[0m\n",
       "\u001b[1;38;2;212;183;2mtreatment and research purposes, and are designed based on principles from human brain structure.\u001b[0m\n"
      ]
     },
     "metadata": {},
     "output_type": "display_data"
    },
    {
     "data": {
      "text/html": [
       "<pre style=\"white-space:pre;overflow-x:auto;line-height:normal;font-family:Menlo,'DejaVu Sans Mono',consolas,'Courier New',monospace\"><span style=\"color: #7f7f7f; text-decoration-color: #7f7f7f\">[Step 3: Duration 18.20 seconds| Input tokens: 11,140 | Output tokens: 721]</span>\n",
       "</pre>\n"
      ],
      "text/plain": [
       "\u001b[2m[Step 3: Duration 18.20 seconds| Input tokens: 11,140 | Output tokens: 721]\u001b[0m\n"
      ]
     },
     "metadata": {},
     "output_type": "display_data"
    },
    {
     "data": {
      "text/plain": [
       "'The human brain is a biological organ composed of neurons and glial cells, controlling bodily activities and processing sensory information with adaptive and learning capabilities. Machine brains, on the other hand, are artificial systems that interface with neural signals to control external devices, often for clinical treatment and research purposes, and are designed based on principles from human brain structure.'"
      ]
     },
     "execution_count": 3,
     "metadata": {},
     "output_type": "execute_result"
    }
   ],
   "source": [
    "from smolagents import CodeAgent, DuckDuckGoSearchTool, HfApiModel\n",
    "\n",
    "model = HfApiModel()\n",
    "agent = CodeAgent(tools=[DuckDuckGoSearchTool()],\n",
    "                  model=model)\n",
    "\n",
    "agent.run('Difference between human brain and machine brain')"
   ]
  },
  {
   "cell_type": "code",
   "execution_count": 4,
   "metadata": {},
   "outputs": [
    {
     "data": {
      "text/html": [
       "<pre style=\"white-space:pre;overflow-x:auto;line-height:normal;font-family:Menlo,'DejaVu Sans Mono',consolas,'Courier New',monospace\"><span style=\"color: #d4b702; text-decoration-color: #d4b702\">╭──────────────────────────────────────────────────── </span><span style=\"color: #d4b702; text-decoration-color: #d4b702; font-weight: bold\">New run</span><span style=\"color: #d4b702; text-decoration-color: #d4b702\"> ────────────────────────────────────────────────────╮</span>\n",
       "<span style=\"color: #d4b702; text-decoration-color: #d4b702\">│</span>                                                                                                                 <span style=\"color: #d4b702; text-decoration-color: #d4b702\">│</span>\n",
       "<span style=\"color: #d4b702; text-decoration-color: #d4b702\">│</span> <span style=\"font-weight: bold\">Agentic job market in 2025</span>                                                                                      <span style=\"color: #d4b702; text-decoration-color: #d4b702\">│</span>\n",
       "<span style=\"color: #d4b702; text-decoration-color: #d4b702\">│</span>                                                                                                                 <span style=\"color: #d4b702; text-decoration-color: #d4b702\">│</span>\n",
       "<span style=\"color: #d4b702; text-decoration-color: #d4b702\">╰─ HfApiModel - Qwen/Qwen2.5-Coder-32B-Instruct ──────────────────────────────────────────────────────────────────╯</span>\n",
       "</pre>\n"
      ],
      "text/plain": [
       "\u001b[38;2;212;183;2m╭─\u001b[0m\u001b[38;2;212;183;2m───────────────────────────────────────────────────\u001b[0m\u001b[38;2;212;183;2m \u001b[0m\u001b[1;38;2;212;183;2mNew run\u001b[0m\u001b[38;2;212;183;2m \u001b[0m\u001b[38;2;212;183;2m───────────────────────────────────────────────────\u001b[0m\u001b[38;2;212;183;2m─╮\u001b[0m\n",
       "\u001b[38;2;212;183;2m│\u001b[0m                                                                                                                 \u001b[38;2;212;183;2m│\u001b[0m\n",
       "\u001b[38;2;212;183;2m│\u001b[0m \u001b[1mAgentic job market in 2025\u001b[0m                                                                                      \u001b[38;2;212;183;2m│\u001b[0m\n",
       "\u001b[38;2;212;183;2m│\u001b[0m                                                                                                                 \u001b[38;2;212;183;2m│\u001b[0m\n",
       "\u001b[38;2;212;183;2m╰─\u001b[0m\u001b[38;2;212;183;2m HfApiModel - Qwen/Qwen2.5-Coder-32B-Instruct \u001b[0m\u001b[38;2;212;183;2m─────────────────────────────────────────────────────────────────\u001b[0m\u001b[38;2;212;183;2m─╯\u001b[0m\n"
      ]
     },
     "metadata": {},
     "output_type": "display_data"
    },
    {
     "data": {
      "text/html": [
       "<pre style=\"white-space:pre;overflow-x:auto;line-height:normal;font-family:Menlo,'DejaVu Sans Mono',consolas,'Courier New',monospace\"><span style=\"color: #d4b702; text-decoration-color: #d4b702\">━━━━━━━━━━━━━━━━━━━━━━━━━━━━━━━━━━━━━━━━━━━━━━━━━━━━━ </span><span style=\"font-weight: bold\">Step </span><span style=\"color: #008080; text-decoration-color: #008080; font-weight: bold\">1</span><span style=\"color: #d4b702; text-decoration-color: #d4b702\"> ━━━━━━━━━━━━━━━━━━━━━━━━━━━━━━━━━━━━━━━━━━━━━━━━━━━━━━</span>\n",
       "</pre>\n"
      ],
      "text/plain": [
       "\u001b[38;2;212;183;2m━━━━━━━━━━━━━━━━━━━━━━━━━━━━━━━━━━━━━━━━━━━━━━━━━━━━━ \u001b[0m\u001b[1mStep \u001b[0m\u001b[1;36m1\u001b[0m\u001b[38;2;212;183;2m ━━━━━━━━━━━━━━━━━━━━━━━━━━━━━━━━━━━━━━━━━━━━━━━━━━━━━━\u001b[0m\n"
      ]
     },
     "metadata": {},
     "output_type": "display_data"
    },
    {
     "data": {
      "text/html": [
       "<pre style=\"white-space:pre;overflow-x:auto;line-height:normal;font-family:Menlo,'DejaVu Sans Mono',consolas,'Courier New',monospace\">╭─────────────────────────────────────────────────────────────────────────────────────────────────────────────────╮\n",
       "│ Calling tool: 'web_search' with arguments: {'query': 'Agentic job market in 2025'}                              │\n",
       "╰─────────────────────────────────────────────────────────────────────────────────────────────────────────────────╯\n",
       "</pre>\n"
      ],
      "text/plain": [
       "╭─────────────────────────────────────────────────────────────────────────────────────────────────────────────────╮\n",
       "│ Calling tool: 'web_search' with arguments: {'query': 'Agentic job market in 2025'}                              │\n",
       "╰─────────────────────────────────────────────────────────────────────────────────────────────────────────────────╯\n"
      ]
     },
     "metadata": {},
     "output_type": "display_data"
    },
    {
     "data": {
      "text/html": [
       "<pre style=\"white-space:pre;overflow-x:auto;line-height:normal;font-family:Menlo,'DejaVu Sans Mono',consolas,'Courier New',monospace\">Observations: ## Search Results\n",
       "\n",
       "|The Effect of AI Agents on the Job Market in \n",
       "<span style=\"color: #008080; text-decoration-color: #008080; font-weight: bold\">2025</span><span style=\"font-weight: bold\">](</span><span style=\"color: #0000ff; text-decoration-color: #0000ff; text-decoration: underline\">https://www.analyticsvidhya.com/blog/2025/01/effect-of-ai-agents-in-the-job-market/)</span>\n",
       "In <span style=\"color: #008080; text-decoration-color: #008080; font-weight: bold\">2025</span>, AI agents will be a major force in reshaping the job market and transforming industries. They will create \n",
       "new opportunities while rendering certain jobs obsolete. The adoption of AI will accelerate, with businesses \n",
       "leveraging AI agents for a range of functions, from customer service and HR to data analysis and beyond.\n",
       "\n",
       "|AI Agents in <span style=\"color: #008080; text-decoration-color: #008080; font-weight: bold\">2025</span>: Expectations vs. Reality - \n",
       "IBM<span style=\"font-weight: bold\">](</span><span style=\"color: #0000ff; text-decoration-color: #0000ff; text-decoration: underline\">https://www.ibm.com/think/insights/ai-agents-2025-expectations-vs-reality)</span>\n",
       "<span style=\"color: #008000; text-decoration-color: #008000\">\"More and better agents\"</span> are on the way, predicts Time. <span style=\"color: #008080; text-decoration-color: #008080; font-weight: bold\">1</span> <span style=\"color: #008000; text-decoration-color: #008000\">\"Autonomous 'agents' and profitability are likely to </span>\n",
       "<span style=\"color: #008000; text-decoration-color: #008000\">dominate the artificial intelligence agenda,\"</span> reports Reuters. <span style=\"color: #008080; text-decoration-color: #008080; font-weight: bold\">2</span> <span style=\"color: #008000; text-decoration-color: #008000\">\"The age of agentic AI has arrived,\"</span> promises \n",
       "Forbes, in response to a claim from Nvidia's Jensen Huang. <span style=\"color: #008080; text-decoration-color: #008080; font-weight: bold\">3</span> Tech media is awash with assurances that our lives are\n",
       "on the verge of a total transformation.\n",
       "\n",
       "|<span style=\"color: #008080; text-decoration-color: #008080; font-weight: bold\">2025</span> will be the year of AI agents - \n",
       "TechTarget<span style=\"font-weight: bold\">](</span><span style=\"color: #0000ff; text-decoration-color: #0000ff; text-decoration: underline\">https://www.techtarget.com/searchEnterpriseAI/feature/Next-year-will-be-the-year-of-AI-agents)</span>\n",
       "Agentic Challenges in <span style=\"color: #008080; text-decoration-color: #008080; font-weight: bold\">2025</span>. Similar to other AI technologies, AI agents will face challenges in <span style=\"color: #008080; text-decoration-color: #008080; font-weight: bold\">2025</span>. One is data. \n",
       "Because data is usually spread across different sources and processes, it might be challenging to give AI agents \n",
       "the data they need to perform the tasks they're being asked to do, Greene said.\n",
       "\n",
       "|How Agentic AI Will Redefine Jobs? |<span style=\"color: #008080; text-decoration-color: #008080; font-weight: bold\">2025</span><span style=\"font-weight: bold\">]</span> - \n",
       "DigitalDefynd<span style=\"font-weight: bold\">](</span><span style=\"color: #0000ff; text-decoration-color: #0000ff; text-decoration: underline\">https://digitaldefynd.com/IQ/how-agentic-ai-will-redefine-jobs/)</span>\n",
       "How Agentic AI Will Redefine Jobs? |<span style=\"color: #008080; text-decoration-color: #008080; font-weight: bold\">2025</span><span style=\"font-weight: bold\">]</span> Automation of Routine Tasks. <span style=\"color: #808000; text-decoration-color: #808000\">...</span> This capacity for remote work widens the\n",
       "job market, allowing companies to access a global talent pool and fostering a more diverse and inclusive workforce.\n",
       "Particularly beneficial for freelancers, these technological advances permit the offering of highly specialized <span style=\"color: #808000; text-decoration-color: #808000\">...</span>\n",
       "\n",
       "|AI Agents and Agentic AI in <span style=\"color: #008080; text-decoration-color: #008080; font-weight: bold\">2025</span>: A Look at What's Ahead - Great \n",
       "Learning<span style=\"font-weight: bold\">](</span><span style=\"color: #0000ff; text-decoration-color: #0000ff; text-decoration: underline\">https://www.mygreatlearning.com/blog/ai-agents-and-agentic-ai/)</span>\n",
       "Automated Trading: Self-governing trading bots make market moves, aiming to increase returns for investors. \n",
       "Enterprise Operations. Replacing Mid-Level Roles: Meta intends to use Agentic AI to fill certain mid-level \n",
       "engineering positions, showing how these systems can take on higher-level tasks. Recent Developments in AI Agents \n",
       "and Agentic AI\n",
       "\n",
       "|Top <span style=\"color: #008080; text-decoration-color: #008080; font-weight: bold\">10</span> AI Agent Trends and Predictions for <span style=\"color: #008080; text-decoration-color: #008080; font-weight: bold\">2025</span> - Analytics \n",
       "Vidhya<span style=\"font-weight: bold\">](</span><span style=\"color: #0000ff; text-decoration-color: #0000ff; text-decoration: underline\">https://www.analyticsvidhya.com/blog/2024/12/ai-agent-trends/)</span>\n",
       "This would mostly be for tasks like email generation, coding, and data analysis. In a similar study, Deloitte \n",
       "forecasts that <span style=\"color: #008080; text-decoration-color: #008080; font-weight: bold\">25</span>% of enterprises using GenAI will deploy AI Agents by <span style=\"color: #008080; text-decoration-color: #008080; font-weight: bold\">2025</span>, growing to <span style=\"color: #008080; text-decoration-color: #008080; font-weight: bold\">50</span>% by <span style=\"color: #008080; text-decoration-color: #008080; font-weight: bold\">2027</span>. Meanwhile, \n",
       "Gartner predicts that by <span style=\"color: #008080; text-decoration-color: #008080; font-weight: bold\">2028</span>, at least <span style=\"color: #008080; text-decoration-color: #008080; font-weight: bold\">15</span>% of day-to-day work decisions will be made autonomously through agentic \n",
       "AI. It <span style=\"color: #808000; text-decoration-color: #808000\">...</span>\n",
       "\n",
       "|Key Trends for <span style=\"color: #008080; text-decoration-color: #008080; font-weight: bold\">2025</span>: Agentic Al, Workforce Shifts and \n",
       "Regulations<span style=\"font-weight: bold\">](</span><span style=\"color: #0000ff; text-decoration-color: #0000ff; text-decoration: underline\">https://www.seeitmarket.com/key-trends-for-2025-agentic-al-workforce-shifts-and-regulations/)</span>\n",
       "Spending on agentic AI is projected to hit $4B by <span style=\"color: #008080; text-decoration-color: #008080; font-weight: bold\">2028</span>, growing at a <span style=\"color: #008080; text-decoration-color: #008080; font-weight: bold\">68</span>% CAGRai-and-automation-trend…. Companies \n",
       "developing agentic AI infrastructure <span style=\"font-weight: bold\">(</span>think orchestration, governance, and <span style=\"color: #808000; text-decoration-color: #808000\">...</span>\n",
       "\n",
       "|Will <span style=\"color: #008080; text-decoration-color: #008080; font-weight: bold\">2025</span> Be the Year Agentic AI Takes Off? - Built \n",
       "In<span style=\"font-weight: bold\">](</span><span style=\"color: #0000ff; text-decoration-color: #0000ff; text-decoration: underline\">https://builtin.com/artificial-intelligence/year-agentic-ai)</span>\n",
       "How AI, Agentic AI and AI Agents Will Impact the Workforce in <span style=\"color: #008080; text-decoration-color: #008080; font-weight: bold\">2025</span> These Industries Will Embrace Agentic AI \n",
       "Immediately. Off the bat, there are a few organizational functions that we predict are best primed to reap the \n",
       "benefits of agentic AI today: recruiting, sales, customer service, marketing and legal departments. Of course, you \n",
       "can apply <span style=\"color: #808000; text-decoration-color: #808000\">...</span>\n",
       "\n",
       "|Tech's Big Bang In <span style=\"color: #008080; text-decoration-color: #008080; font-weight: bold\">2025</span>: AI Is The Spark Igniting A New Era - \n",
       "Forbes<span style=\"font-weight: bold\">](</span><span style=\"color: #0000ff; text-decoration-color: #0000ff; text-decoration: underline\">https://www.forbes.com/sites/delltechnologies/2024/12/04/techs-big-bang-in-2025-ai-is-the-spark-igniting-a-</span>\n",
       "<span style=\"color: #0000ff; text-decoration-color: #0000ff; text-decoration: underline\">new-era/)</span>\n",
       "<span style=\"color: #008000; text-decoration-color: #008000\">\"Agentic\"</span> will be the word of the year in <span style=\"color: #008080; text-decoration-color: #008080; font-weight: bold\">2025</span>. The birth of agentic AI architecture marks a new chapter in \n",
       "human-AI interaction. <span style=\"color: #808000; text-decoration-color: #808000\">...</span> AI is poised to transform the job market. Routine, task <span style=\"color: #808000; text-decoration-color: #808000\">...</span>\n",
       "\n",
       "|Agentic AI Market Size, Share, Trends | CAGR of <span style=\"color: #008080; text-decoration-color: #008080; font-weight: bold\">43.8</span>%<span style=\"font-weight: bold\">](</span><span style=\"color: #0000ff; text-decoration-color: #0000ff; text-decoration: underline\">https://market.us/report/agentic-ai-market/)</span>\n",
       "Report Overview. The Global Agentic AI Market size is expected to be worth around USD <span style=\"color: #008080; text-decoration-color: #008080; font-weight: bold\">196.6</span> billion by <span style=\"color: #008080; text-decoration-color: #008080; font-weight: bold\">2034</span>, from \n",
       "USD <span style=\"color: #008080; text-decoration-color: #008080; font-weight: bold\">5.2</span> billion in <span style=\"color: #008080; text-decoration-color: #008080; font-weight: bold\">2024</span>, growing at a CAGR of <span style=\"color: #008080; text-decoration-color: #008080; font-weight: bold\">43.8</span>% during the forecast period from <span style=\"color: #008080; text-decoration-color: #008080; font-weight: bold\">2025</span> to <span style=\"color: #008080; text-decoration-color: #008080; font-weight: bold\">2034</span>. In <span style=\"color: #008080; text-decoration-color: #008080; font-weight: bold\">2024</span>, North \n",
       "America held a dominant market position, capturing more than a <span style=\"color: #008080; text-decoration-color: #008080; font-weight: bold\">38</span>% share, holding USD <span style=\"color: #008080; text-decoration-color: #008080; font-weight: bold\">1.97</span> Billion revenue. The US \n",
       "Agentic AI Market size was exhibited at USD <span style=\"color: #008080; text-decoration-color: #008080; font-weight: bold\">1.58</span> <span style=\"color: #808000; text-decoration-color: #808000\">...</span>\n",
       "</pre>\n"
      ],
      "text/plain": [
       "Observations: ## Search Results\n",
       "\n",
       "|The Effect of AI Agents on the Job Market in \n",
       "\u001b[1;36m2025\u001b[0m\u001b[1m]\u001b[0m\u001b[1m(\u001b[0m\u001b[4;94mhttps://www.analyticsvidhya.com/blog/2025/01/effect-of-ai-agents-in-the-job-market/\u001b[0m\u001b[4;94m)\u001b[0m\n",
       "In \u001b[1;36m2025\u001b[0m, AI agents will be a major force in reshaping the job market and transforming industries. They will create \n",
       "new opportunities while rendering certain jobs obsolete. The adoption of AI will accelerate, with businesses \n",
       "leveraging AI agents for a range of functions, from customer service and HR to data analysis and beyond.\n",
       "\n",
       "|AI Agents in \u001b[1;36m2025\u001b[0m: Expectations vs. Reality - \n",
       "IBM\u001b[1m]\u001b[0m\u001b[1m(\u001b[0m\u001b[4;94mhttps://www.ibm.com/think/insights/ai-agents-2025-expectations-vs-reality\u001b[0m\u001b[4;94m)\u001b[0m\n",
       "\u001b[32m\"More and better agents\"\u001b[0m are on the way, predicts Time. \u001b[1;36m1\u001b[0m \u001b[32m\"Autonomous 'agents' and profitability are likely to \u001b[0m\n",
       "\u001b[32mdominate the artificial intelligence agenda,\"\u001b[0m reports Reuters. \u001b[1;36m2\u001b[0m \u001b[32m\"The age of agentic AI has arrived,\"\u001b[0m promises \n",
       "Forbes, in response to a claim from Nvidia's Jensen Huang. \u001b[1;36m3\u001b[0m Tech media is awash with assurances that our lives are\n",
       "on the verge of a total transformation.\n",
       "\n",
       "|\u001b[1;36m2025\u001b[0m will be the year of AI agents - \n",
       "TechTarget\u001b[1m]\u001b[0m\u001b[1m(\u001b[0m\u001b[4;94mhttps://www.techtarget.com/searchEnterpriseAI/feature/Next-year-will-be-the-year-of-AI-agents\u001b[0m\u001b[4;94m)\u001b[0m\n",
       "Agentic Challenges in \u001b[1;36m2025\u001b[0m. Similar to other AI technologies, AI agents will face challenges in \u001b[1;36m2025\u001b[0m. One is data. \n",
       "Because data is usually spread across different sources and processes, it might be challenging to give AI agents \n",
       "the data they need to perform the tasks they're being asked to do, Greene said.\n",
       "\n",
       "|How Agentic AI Will Redefine Jobs? |\u001b[1;36m2025\u001b[0m\u001b[1m]\u001b[0m - \n",
       "DigitalDefynd\u001b[1m]\u001b[0m\u001b[1m(\u001b[0m\u001b[4;94mhttps://digitaldefynd.com/IQ/how-agentic-ai-will-redefine-jobs/\u001b[0m\u001b[4;94m)\u001b[0m\n",
       "How Agentic AI Will Redefine Jobs? |\u001b[1;36m2025\u001b[0m\u001b[1m]\u001b[0m Automation of Routine Tasks. \u001b[33m...\u001b[0m This capacity for remote work widens the\n",
       "job market, allowing companies to access a global talent pool and fostering a more diverse and inclusive workforce.\n",
       "Particularly beneficial for freelancers, these technological advances permit the offering of highly specialized \u001b[33m...\u001b[0m\n",
       "\n",
       "|AI Agents and Agentic AI in \u001b[1;36m2025\u001b[0m: A Look at What's Ahead - Great \n",
       "Learning\u001b[1m]\u001b[0m\u001b[1m(\u001b[0m\u001b[4;94mhttps://www.mygreatlearning.com/blog/ai-agents-and-agentic-ai/\u001b[0m\u001b[4;94m)\u001b[0m\n",
       "Automated Trading: Self-governing trading bots make market moves, aiming to increase returns for investors. \n",
       "Enterprise Operations. Replacing Mid-Level Roles: Meta intends to use Agentic AI to fill certain mid-level \n",
       "engineering positions, showing how these systems can take on higher-level tasks. Recent Developments in AI Agents \n",
       "and Agentic AI\n",
       "\n",
       "|Top \u001b[1;36m10\u001b[0m AI Agent Trends and Predictions for \u001b[1;36m2025\u001b[0m - Analytics \n",
       "Vidhya\u001b[1m]\u001b[0m\u001b[1m(\u001b[0m\u001b[4;94mhttps://www.analyticsvidhya.com/blog/2024/12/ai-agent-trends/\u001b[0m\u001b[4;94m)\u001b[0m\n",
       "This would mostly be for tasks like email generation, coding, and data analysis. In a similar study, Deloitte \n",
       "forecasts that \u001b[1;36m25\u001b[0m% of enterprises using GenAI will deploy AI Agents by \u001b[1;36m2025\u001b[0m, growing to \u001b[1;36m50\u001b[0m% by \u001b[1;36m2027\u001b[0m. Meanwhile, \n",
       "Gartner predicts that by \u001b[1;36m2028\u001b[0m, at least \u001b[1;36m15\u001b[0m% of day-to-day work decisions will be made autonomously through agentic \n",
       "AI. It \u001b[33m...\u001b[0m\n",
       "\n",
       "|Key Trends for \u001b[1;36m2025\u001b[0m: Agentic Al, Workforce Shifts and \n",
       "Regulations\u001b[1m]\u001b[0m\u001b[1m(\u001b[0m\u001b[4;94mhttps://www.seeitmarket.com/key-trends-for-2025-agentic-al-workforce-shifts-and-regulations/\u001b[0m\u001b[4;94m)\u001b[0m\n",
       "Spending on agentic AI is projected to hit $4B by \u001b[1;36m2028\u001b[0m, growing at a \u001b[1;36m68\u001b[0m% CAGRai-and-automation-trend…. Companies \n",
       "developing agentic AI infrastructure \u001b[1m(\u001b[0mthink orchestration, governance, and \u001b[33m...\u001b[0m\n",
       "\n",
       "|Will \u001b[1;36m2025\u001b[0m Be the Year Agentic AI Takes Off? - Built \n",
       "In\u001b[1m]\u001b[0m\u001b[1m(\u001b[0m\u001b[4;94mhttps://builtin.com/artificial-intelligence/year-agentic-ai\u001b[0m\u001b[4;94m)\u001b[0m\n",
       "How AI, Agentic AI and AI Agents Will Impact the Workforce in \u001b[1;36m2025\u001b[0m These Industries Will Embrace Agentic AI \n",
       "Immediately. Off the bat, there are a few organizational functions that we predict are best primed to reap the \n",
       "benefits of agentic AI today: recruiting, sales, customer service, marketing and legal departments. Of course, you \n",
       "can apply \u001b[33m...\u001b[0m\n",
       "\n",
       "|Tech's Big Bang In \u001b[1;36m2025\u001b[0m: AI Is The Spark Igniting A New Era - \n",
       "Forbes\u001b[1m]\u001b[0m\u001b[1m(\u001b[0m\u001b[4;94mhttps://www.forbes.com/sites/delltechnologies/2024/12/04/techs-big-bang-in-2025-ai-is-the-spark-igniting-a-\u001b[0m\n",
       "\u001b[4;94mnew-era/\u001b[0m\u001b[4;94m)\u001b[0m\n",
       "\u001b[32m\"Agentic\"\u001b[0m will be the word of the year in \u001b[1;36m2025\u001b[0m. The birth of agentic AI architecture marks a new chapter in \n",
       "human-AI interaction. \u001b[33m...\u001b[0m AI is poised to transform the job market. Routine, task \u001b[33m...\u001b[0m\n",
       "\n",
       "|Agentic AI Market Size, Share, Trends | CAGR of \u001b[1;36m43.8\u001b[0m%\u001b[1m]\u001b[0m\u001b[1m(\u001b[0m\u001b[4;94mhttps://market.us/report/agentic-ai-market/\u001b[0m\u001b[4;94m)\u001b[0m\n",
       "Report Overview. The Global Agentic AI Market size is expected to be worth around USD \u001b[1;36m196.6\u001b[0m billion by \u001b[1;36m2034\u001b[0m, from \n",
       "USD \u001b[1;36m5.2\u001b[0m billion in \u001b[1;36m2024\u001b[0m, growing at a CAGR of \u001b[1;36m43.8\u001b[0m% during the forecast period from \u001b[1;36m2025\u001b[0m to \u001b[1;36m2034\u001b[0m. In \u001b[1;36m2024\u001b[0m, North \n",
       "America held a dominant market position, capturing more than a \u001b[1;36m38\u001b[0m% share, holding USD \u001b[1;36m1.97\u001b[0m Billion revenue. The US \n",
       "Agentic AI Market size was exhibited at USD \u001b[1;36m1.58\u001b[0m \u001b[33m...\u001b[0m\n"
      ]
     },
     "metadata": {},
     "output_type": "display_data"
    },
    {
     "data": {
      "text/html": [
       "<pre style=\"white-space:pre;overflow-x:auto;line-height:normal;font-family:Menlo,'DejaVu Sans Mono',consolas,'Courier New',monospace\"><span style=\"color: #7f7f7f; text-decoration-color: #7f7f7f\">[Step 1: Duration 4.25 seconds| Input tokens: 1,170 | Output tokens: 30]</span>\n",
       "</pre>\n"
      ],
      "text/plain": [
       "\u001b[2m[Step 1: Duration 4.25 seconds| Input tokens: 1,170 | Output tokens: 30]\u001b[0m\n"
      ]
     },
     "metadata": {},
     "output_type": "display_data"
    },
    {
     "data": {
      "text/html": [
       "<pre style=\"white-space:pre;overflow-x:auto;line-height:normal;font-family:Menlo,'DejaVu Sans Mono',consolas,'Courier New',monospace\"><span style=\"color: #d4b702; text-decoration-color: #d4b702\">━━━━━━━━━━━━━━━━━━━━━━━━━━━━━━━━━━━━━━━━━━━━━━━━━━━━━ </span><span style=\"font-weight: bold\">Step </span><span style=\"color: #008080; text-decoration-color: #008080; font-weight: bold\">2</span><span style=\"color: #d4b702; text-decoration-color: #d4b702\"> ━━━━━━━━━━━━━━━━━━━━━━━━━━━━━━━━━━━━━━━━━━━━━━━━━━━━━━</span>\n",
       "</pre>\n"
      ],
      "text/plain": [
       "\u001b[38;2;212;183;2m━━━━━━━━━━━━━━━━━━━━━━━━━━━━━━━━━━━━━━━━━━━━━━━━━━━━━ \u001b[0m\u001b[1mStep \u001b[0m\u001b[1;36m2\u001b[0m\u001b[38;2;212;183;2m ━━━━━━━━━━━━━━━━━━━━━━━━━━━━━━━━━━━━━━━━━━━━━━━━━━━━━━\u001b[0m\n"
      ]
     },
     "metadata": {},
     "output_type": "display_data"
    },
    {
     "data": {
      "text/html": [
       "<pre style=\"white-space:pre;overflow-x:auto;line-height:normal;font-family:Menlo,'DejaVu Sans Mono',consolas,'Courier New',monospace\">╭─────────────────────────────────────────────────────────────────────────────────────────────────────────────────╮\n",
       "│ Calling tool: 'final_answer' with arguments: {'answer': 'In 2025, AI agents are expected to significantly       │\n",
       "│ reshape the job market by creating new opportunities while making certain jobs obsolete. They will be adopted   │\n",
       "│ across various industries for functions such as customer service, HR, data analysis, and more. Challenges will  │\n",
       "│ include data management and integration. AI agents are predicted to automate routine tasks, potentially taking  │\n",
       "│ over mid-level roles, and could impact industries like recruiting, sales, customer service, marketing, and      │\n",
       "│ legal departments. The market for agentic AI is projected to grow rapidly, with a CAGR of 43.8% from 2025 to    │\n",
       "│ 2034, reaching approximately USD 196. 6 billion by 2034.'}                                                      │\n",
       "╰─────────────────────────────────────────────────────────────────────────────────────────────────────────────────╯\n",
       "</pre>\n"
      ],
      "text/plain": [
       "╭─────────────────────────────────────────────────────────────────────────────────────────────────────────────────╮\n",
       "│ Calling tool: 'final_answer' with arguments: {'answer': 'In 2025, AI agents are expected to significantly       │\n",
       "│ reshape the job market by creating new opportunities while making certain jobs obsolete. They will be adopted   │\n",
       "│ across various industries for functions such as customer service, HR, data analysis, and more. Challenges will  │\n",
       "│ include data management and integration. AI agents are predicted to automate routine tasks, potentially taking  │\n",
       "│ over mid-level roles, and could impact industries like recruiting, sales, customer service, marketing, and      │\n",
       "│ legal departments. The market for agentic AI is projected to grow rapidly, with a CAGR of 43.8% from 2025 to    │\n",
       "│ 2034, reaching approximately USD 196. 6 billion by 2034.'}                                                      │\n",
       "╰─────────────────────────────────────────────────────────────────────────────────────────────────────────────────╯\n"
      ]
     },
     "metadata": {},
     "output_type": "display_data"
    },
    {
     "data": {
      "text/html": [
       "<pre style=\"white-space:pre;overflow-x:auto;line-height:normal;font-family:Menlo,'DejaVu Sans Mono',consolas,'Courier New',monospace\"><span style=\"color: #d4b702; text-decoration-color: #d4b702; font-weight: bold\">Final answer: In 2025, AI agents are expected to significantly reshape the job market by creating new opportunities</span>\n",
       "<span style=\"color: #d4b702; text-decoration-color: #d4b702; font-weight: bold\">while making certain jobs obsolete. They will be adopted across various industries for functions such as customer </span>\n",
       "<span style=\"color: #d4b702; text-decoration-color: #d4b702; font-weight: bold\">service, HR, data analysis, and more. Challenges will include data management and integration. AI agents are </span>\n",
       "<span style=\"color: #d4b702; text-decoration-color: #d4b702; font-weight: bold\">predicted to automate routine tasks, potentially taking over mid-level roles, and could impact industries like </span>\n",
       "<span style=\"color: #d4b702; text-decoration-color: #d4b702; font-weight: bold\">recruiting, sales, customer service, marketing, and legal departments. The market for agentic AI is projected to </span>\n",
       "<span style=\"color: #d4b702; text-decoration-color: #d4b702; font-weight: bold\">grow rapidly, with a CAGR of 43.8% from 2025 to 2034, reaching approximately USD 196. 6 billion by 2034.</span>\n",
       "</pre>\n"
      ],
      "text/plain": [
       "\u001b[1;38;2;212;183;2mFinal answer: In 2025, AI agents are expected to significantly reshape the job market by creating new opportunities\u001b[0m\n",
       "\u001b[1;38;2;212;183;2mwhile making certain jobs obsolete. They will be adopted across various industries for functions such as customer \u001b[0m\n",
       "\u001b[1;38;2;212;183;2mservice, HR, data analysis, and more. Challenges will include data management and integration. AI agents are \u001b[0m\n",
       "\u001b[1;38;2;212;183;2mpredicted to automate routine tasks, potentially taking over mid-level roles, and could impact industries like \u001b[0m\n",
       "\u001b[1;38;2;212;183;2mrecruiting, sales, customer service, marketing, and legal departments. The market for agentic AI is projected to \u001b[0m\n",
       "\u001b[1;38;2;212;183;2mgrow rapidly, with a CAGR of 43.8% from 2025 to 2034, reaching approximately USD 196. 6 billion by 2034.\u001b[0m\n"
      ]
     },
     "metadata": {},
     "output_type": "display_data"
    },
    {
     "data": {
      "text/html": [
       "<pre style=\"white-space:pre;overflow-x:auto;line-height:normal;font-family:Menlo,'DejaVu Sans Mono',consolas,'Courier New',monospace\"><span style=\"color: #7f7f7f; text-decoration-color: #7f7f7f\">[Step 2: Duration 8.47 seconds| Input tokens: 3,600 | Output tokens: 191]</span>\n",
       "</pre>\n"
      ],
      "text/plain": [
       "\u001b[2m[Step 2: Duration 8.47 seconds| Input tokens: 3,600 | Output tokens: 191]\u001b[0m\n"
      ]
     },
     "metadata": {},
     "output_type": "display_data"
    },
    {
     "data": {
      "text/plain": [
       "'In 2025, AI agents are expected to significantly reshape the job market by creating new opportunities while making certain jobs obsolete. They will be adopted across various industries for functions such as customer service, HR, data analysis, and more. Challenges will include data management and integration. AI agents are predicted to automate routine tasks, potentially taking over mid-level roles, and could impact industries like recruiting, sales, customer service, marketing, and legal departments. The market for agentic AI is projected to grow rapidly, with a CAGR of 43.8% from 2025 to 2034, reaching approximately USD 196. 6 billion by 2034.'"
      ]
     },
     "execution_count": 4,
     "metadata": {},
     "output_type": "execute_result"
    }
   ],
   "source": [
    "from smolagents import ToolCallingAgent\n",
    "\n",
    "tool_agent = ToolCallingAgent(tools=[DuckDuckGoSearchTool()],\n",
    "                              model= model)\n",
    "\n",
    "tool_agent.run(\"Agentic job market in 2025\")"
   ]
  }
 ],
 "metadata": {
  "kernelspec": {
   "display_name": "Python 3",
   "language": "python",
   "name": "python3"
  },
  "language_info": {
   "codemirror_mode": {
    "name": "ipython",
    "version": 3
   },
   "file_extension": ".py",
   "mimetype": "text/x-python",
   "name": "python",
   "nbconvert_exporter": "python",
   "pygments_lexer": "ipython3",
   "version": "3.13.1"
  }
 },
 "nbformat": 4,
 "nbformat_minor": 2
}
